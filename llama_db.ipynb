{
 "cells": [
  {
   "cell_type": "code",
   "execution_count": 1,
   "metadata": {},
   "outputs": [],
   "source": [
    "from sqlalchemy import create_engine, MetaData\n",
    "\n",
    "url = 'data/ecommerce.db'\n",
    "engine = create_engine(f'sqlite:///{url}')"
   ]
  },
  {
   "cell_type": "code",
   "execution_count": 2,
   "metadata": {},
   "outputs": [
    {
     "data": {
      "text/plain": [
       "dict_keys(['Clientes', 'Fornecedores', 'Funcionarios'])"
      ]
     },
     "execution_count": 2,
     "metadata": {},
     "output_type": "execute_result"
    }
   ],
   "source": [
    "metadata_obj = MetaData()\n",
    "metadata_obj.reflect(bind=engine)\n",
    "metadata_obj.tables.keys()"
   ]
  },
  {
   "cell_type": "code",
   "execution_count": 3,
   "metadata": {},
   "outputs": [
    {
     "data": {
      "text/html": [
       "<div>\n",
       "<style scoped>\n",
       "    .dataframe tbody tr th:only-of-type {\n",
       "        vertical-align: middle;\n",
       "    }\n",
       "\n",
       "    .dataframe tbody tr th {\n",
       "        vertical-align: top;\n",
       "    }\n",
       "\n",
       "    .dataframe thead th {\n",
       "        text-align: right;\n",
       "    }\n",
       "</style>\n",
       "<table border=\"1\" class=\"dataframe\">\n",
       "  <thead>\n",
       "    <tr style=\"text-align: right;\">\n",
       "      <th></th>\n",
       "      <th>ID_Cliente</th>\n",
       "      <th>Nome</th>\n",
       "      <th>Email</th>\n",
       "      <th>Rua_Numero</th>\n",
       "      <th>Estado</th>\n",
       "      <th>Valor_gasto</th>\n",
       "    </tr>\n",
       "  </thead>\n",
       "  <tbody>\n",
       "    <tr>\n",
       "      <th>0</th>\n",
       "      <td>1</td>\n",
       "      <td>lucas moura</td>\n",
       "      <td>lucas.moura@email.com</td>\n",
       "      <td>sitio de cardoso, 49</td>\n",
       "      <td>sao paulo</td>\n",
       "      <td>29017</td>\n",
       "    </tr>\n",
       "    <tr>\n",
       "      <th>1</th>\n",
       "      <td>2</td>\n",
       "      <td>julia andrade</td>\n",
       "      <td>julia.andrade@email.com</td>\n",
       "      <td>trecho mariane teixeira, 90</td>\n",
       "      <td>tocantins</td>\n",
       "      <td>7834</td>\n",
       "    </tr>\n",
       "    <tr>\n",
       "      <th>2</th>\n",
       "      <td>3</td>\n",
       "      <td>rafael dias</td>\n",
       "      <td>rafael.dias@email.com</td>\n",
       "      <td>setor de duarte, 114</td>\n",
       "      <td>paraiba</td>\n",
       "      <td>4071</td>\n",
       "    </tr>\n",
       "    <tr>\n",
       "      <th>3</th>\n",
       "      <td>4</td>\n",
       "      <td>carla souza</td>\n",
       "      <td>carla.souza@email.com</td>\n",
       "      <td>recanto ana livia lopes, 53</td>\n",
       "      <td>para</td>\n",
       "      <td>17512</td>\n",
       "    </tr>\n",
       "    <tr>\n",
       "      <th>4</th>\n",
       "      <td>5</td>\n",
       "      <td>felipe neto</td>\n",
       "      <td>felipe.neto@email.com</td>\n",
       "      <td>jardim de monteiro, 11</td>\n",
       "      <td>sao paulo</td>\n",
       "      <td>24307</td>\n",
       "    </tr>\n",
       "    <tr>\n",
       "      <th>...</th>\n",
       "      <td>...</td>\n",
       "      <td>...</td>\n",
       "      <td>...</td>\n",
       "      <td>...</td>\n",
       "      <td>...</td>\n",
       "      <td>...</td>\n",
       "    </tr>\n",
       "    <tr>\n",
       "      <th>95</th>\n",
       "      <td>96</td>\n",
       "      <td>ana luiza correia</td>\n",
       "      <td>heitor40@correia.net</td>\n",
       "      <td>passarela pedro das neves, 806</td>\n",
       "      <td>para</td>\n",
       "      <td>9550</td>\n",
       "    </tr>\n",
       "    <tr>\n",
       "      <th>96</th>\n",
       "      <td>97</td>\n",
       "      <td>augusto nascimento</td>\n",
       "      <td>luiz-fernando91@da.br</td>\n",
       "      <td>nucleo teixeira, 1</td>\n",
       "      <td>mato grosso do sul</td>\n",
       "      <td>22149</td>\n",
       "    </tr>\n",
       "    <tr>\n",
       "      <th>97</th>\n",
       "      <td>98</td>\n",
       "      <td>dr. caue pires</td>\n",
       "      <td>azevedomelissa@bol.com.br</td>\n",
       "      <td>ladeira peixoto</td>\n",
       "      <td>parana</td>\n",
       "      <td>33236</td>\n",
       "    </tr>\n",
       "    <tr>\n",
       "      <th>98</th>\n",
       "      <td>99</td>\n",
       "      <td>livia novaes</td>\n",
       "      <td>caldeiramelissa@costa.com</td>\n",
       "      <td>travessa lima, 82</td>\n",
       "      <td>ceara</td>\n",
       "      <td>42653</td>\n",
       "    </tr>\n",
       "    <tr>\n",
       "      <th>99</th>\n",
       "      <td>100</td>\n",
       "      <td>joao felipe da costa</td>\n",
       "      <td>helenacardoso@hotmail.com</td>\n",
       "      <td>viela de cardoso, 87</td>\n",
       "      <td>roraima</td>\n",
       "      <td>20962</td>\n",
       "    </tr>\n",
       "  </tbody>\n",
       "</table>\n",
       "<p>100 rows × 6 columns</p>\n",
       "</div>"
      ],
      "text/plain": [
       "    ID_Cliente                  Nome                      Email  \\\n",
       "0            1           lucas moura      lucas.moura@email.com   \n",
       "1            2         julia andrade    julia.andrade@email.com   \n",
       "2            3           rafael dias      rafael.dias@email.com   \n",
       "3            4           carla souza      carla.souza@email.com   \n",
       "4            5           felipe neto      felipe.neto@email.com   \n",
       "..         ...                   ...                        ...   \n",
       "95          96     ana luiza correia       heitor40@correia.net   \n",
       "96          97    augusto nascimento      luiz-fernando91@da.br   \n",
       "97          98        dr. caue pires  azevedomelissa@bol.com.br   \n",
       "98          99          livia novaes  caldeiramelissa@costa.com   \n",
       "99         100  joao felipe da costa  helenacardoso@hotmail.com   \n",
       "\n",
       "                        Rua_Numero              Estado  Valor_gasto  \n",
       "0             sitio de cardoso, 49           sao paulo        29017  \n",
       "1      trecho mariane teixeira, 90           tocantins         7834  \n",
       "2             setor de duarte, 114             paraiba         4071  \n",
       "3      recanto ana livia lopes, 53                para        17512  \n",
       "4           jardim de monteiro, 11           sao paulo        24307  \n",
       "..                             ...                 ...          ...  \n",
       "95  passarela pedro das neves, 806                para         9550  \n",
       "96              nucleo teixeira, 1  mato grosso do sul        22149  \n",
       "97                 ladeira peixoto              parana        33236  \n",
       "98               travessa lima, 82               ceara        42653  \n",
       "99            viela de cardoso, 87             roraima        20962  \n",
       "\n",
       "[100 rows x 6 columns]"
      ]
     },
     "execution_count": 3,
     "metadata": {},
     "output_type": "execute_result"
    }
   ],
   "source": [
    "import pandas as pd\n",
    "\n",
    "df = pd.read_sql_table('Clientes', engine)\n",
    "df"
   ]
  },
  {
   "cell_type": "code",
   "execution_count": 4,
   "metadata": {},
   "outputs": [
    {
     "data": {
      "text/html": [
       "<div>\n",
       "<style scoped>\n",
       "    .dataframe tbody tr th:only-of-type {\n",
       "        vertical-align: middle;\n",
       "    }\n",
       "\n",
       "    .dataframe tbody tr th {\n",
       "        vertical-align: top;\n",
       "    }\n",
       "\n",
       "    .dataframe thead th {\n",
       "        text-align: right;\n",
       "    }\n",
       "</style>\n",
       "<table border=\"1\" class=\"dataframe\">\n",
       "  <thead>\n",
       "    <tr style=\"text-align: right;\">\n",
       "      <th></th>\n",
       "      <th>ID_Fornecedores</th>\n",
       "      <th>Nome</th>\n",
       "      <th>Contato</th>\n",
       "      <th>Telefone</th>\n",
       "      <th>Email</th>\n",
       "      <th>Rua</th>\n",
       "      <th>Bairro</th>\n",
       "      <th>Cidade</th>\n",
       "      <th>Estado</th>\n",
       "      <th>cep</th>\n",
       "    </tr>\n",
       "  </thead>\n",
       "  <tbody>\n",
       "    <tr>\n",
       "      <th>0</th>\n",
       "      <td>1</td>\n",
       "      <td>technex solutions</td>\n",
       "      <td>lucas martins</td>\n",
       "      <td>11912345678</td>\n",
       "      <td>info@technexsolutions.com</td>\n",
       "      <td>rua das inovacoes, 123</td>\n",
       "      <td>centro</td>\n",
       "      <td>sao paulo</td>\n",
       "      <td>sp</td>\n",
       "      <td>1000000</td>\n",
       "    </tr>\n",
       "    <tr>\n",
       "      <th>1</th>\n",
       "      <td>2</td>\n",
       "      <td>quantum devices</td>\n",
       "      <td>isabela oliveira</td>\n",
       "      <td>11923456789</td>\n",
       "      <td>contact@quantumdevices.net</td>\n",
       "      <td>avenida tecnologica, 456</td>\n",
       "      <td>jardim futuro</td>\n",
       "      <td>guarulhos</td>\n",
       "      <td>sp</td>\n",
       "      <td>20000000</td>\n",
       "    </tr>\n",
       "    <tr>\n",
       "      <th>2</th>\n",
       "      <td>3</td>\n",
       "      <td>innovatetech corporation</td>\n",
       "      <td>rafael pereira</td>\n",
       "      <td>11934567890</td>\n",
       "      <td>support@innovatetechcorp.com</td>\n",
       "      <td>alameda do progresso, 789</td>\n",
       "      <td>centro das inovacoes</td>\n",
       "      <td>santo andre</td>\n",
       "      <td>sp</td>\n",
       "      <td>30000000</td>\n",
       "    </tr>\n",
       "    <tr>\n",
       "      <th>3</th>\n",
       "      <td>4</td>\n",
       "      <td>electrogadget innovations</td>\n",
       "      <td>ana silva</td>\n",
       "      <td>11945678901</td>\n",
       "      <td>sales@electrogadgetinnovations.com</td>\n",
       "      <td>rua eletronica, 234</td>\n",
       "      <td>vila progresso</td>\n",
       "      <td>sao caetano</td>\n",
       "      <td>sp</td>\n",
       "      <td>40000000</td>\n",
       "    </tr>\n",
       "    <tr>\n",
       "      <th>4</th>\n",
       "      <td>5</td>\n",
       "      <td>nexustech systems</td>\n",
       "      <td>pedro almeida</td>\n",
       "      <td>11956789012</td>\n",
       "      <td>info@nexustechsystems.com</td>\n",
       "      <td>travessa da conexao, 567</td>\n",
       "      <td>parque das maravilhas</td>\n",
       "      <td>sao paulo</td>\n",
       "      <td>sp</td>\n",
       "      <td>88000000</td>\n",
       "    </tr>\n",
       "    <tr>\n",
       "      <th>5</th>\n",
       "      <td>6</td>\n",
       "      <td>quantumware technologies</td>\n",
       "      <td>camila santos</td>\n",
       "      <td>11967890123</td>\n",
       "      <td>inquiries@quantumwaretech.com</td>\n",
       "      <td>rua quantica, 890</td>\n",
       "      <td>bairro techville</td>\n",
       "      <td>guarulhos</td>\n",
       "      <td>sp</td>\n",
       "      <td>90000000</td>\n",
       "    </tr>\n",
       "  </tbody>\n",
       "</table>\n",
       "</div>"
      ],
      "text/plain": [
       "   ID_Fornecedores                       Nome           Contato     Telefone  \\\n",
       "0                1          technex solutions     lucas martins  11912345678   \n",
       "1                2            quantum devices  isabela oliveira  11923456789   \n",
       "2                3   innovatetech corporation    rafael pereira  11934567890   \n",
       "3                4  electrogadget innovations         ana silva  11945678901   \n",
       "4                5          nexustech systems     pedro almeida  11956789012   \n",
       "5                6   quantumware technologies     camila santos  11967890123   \n",
       "\n",
       "                                Email                        Rua  \\\n",
       "0           info@technexsolutions.com     rua das inovacoes, 123   \n",
       "1          contact@quantumdevices.net   avenida tecnologica, 456   \n",
       "2        support@innovatetechcorp.com  alameda do progresso, 789   \n",
       "3  sales@electrogadgetinnovations.com        rua eletronica, 234   \n",
       "4           info@nexustechsystems.com   travessa da conexao, 567   \n",
       "5       inquiries@quantumwaretech.com          rua quantica, 890   \n",
       "\n",
       "                  Bairro       Cidade Estado       cep  \n",
       "0                 centro    sao paulo     sp   1000000  \n",
       "1          jardim futuro    guarulhos     sp  20000000  \n",
       "2   centro das inovacoes  santo andre     sp  30000000  \n",
       "3         vila progresso  sao caetano     sp  40000000  \n",
       "4  parque das maravilhas    sao paulo     sp  88000000  \n",
       "5       bairro techville    guarulhos     sp  90000000  "
      ]
     },
     "execution_count": 4,
     "metadata": {},
     "output_type": "execute_result"
    }
   ],
   "source": [
    "df = pd.read_sql_table('Fornecedores', engine)\n",
    "df"
   ]
  },
  {
   "cell_type": "code",
   "execution_count": 5,
   "metadata": {},
   "outputs": [
    {
     "data": {
      "text/html": [
       "<div>\n",
       "<style scoped>\n",
       "    .dataframe tbody tr th:only-of-type {\n",
       "        vertical-align: middle;\n",
       "    }\n",
       "\n",
       "    .dataframe tbody tr th {\n",
       "        vertical-align: top;\n",
       "    }\n",
       "\n",
       "    .dataframe thead th {\n",
       "        text-align: right;\n",
       "    }\n",
       "</style>\n",
       "<table border=\"1\" class=\"dataframe\">\n",
       "  <thead>\n",
       "    <tr style=\"text-align: right;\">\n",
       "      <th></th>\n",
       "      <th>ID_Funcionarios</th>\n",
       "      <th>Nome</th>\n",
       "      <th>Cargo</th>\n",
       "      <th>DataContratacao</th>\n",
       "      <th>Telefone</th>\n",
       "      <th>Email</th>\n",
       "      <th>Rua</th>\n",
       "      <th>Bairro</th>\n",
       "      <th>Cidade</th>\n",
       "      <th>Estado</th>\n",
       "      <th>cep</th>\n",
       "    </tr>\n",
       "  </thead>\n",
       "  <tbody>\n",
       "    <tr>\n",
       "      <th>0</th>\n",
       "      <td>1</td>\n",
       "      <td>carla souza</td>\n",
       "      <td>vendas</td>\n",
       "      <td>2022-03-15</td>\n",
       "      <td>1134567890</td>\n",
       "      <td>carla.souza@email.com</td>\n",
       "      <td>rua das flores, 123</td>\n",
       "      <td>vila esperanca</td>\n",
       "      <td>sao paulo</td>\n",
       "      <td>sp</td>\n",
       "      <td>1000001</td>\n",
       "    </tr>\n",
       "    <tr>\n",
       "      <th>1</th>\n",
       "      <td>2</td>\n",
       "      <td>paulo silva</td>\n",
       "      <td>vendas</td>\n",
       "      <td>2022-05-10</td>\n",
       "      <td>1123456789</td>\n",
       "      <td>paulo.silva@email.com</td>\n",
       "      <td>avenida do sol, 456</td>\n",
       "      <td>jardim da harmonia</td>\n",
       "      <td>sao paulo</td>\n",
       "      <td>sp</td>\n",
       "      <td>20000001</td>\n",
       "    </tr>\n",
       "    <tr>\n",
       "      <th>2</th>\n",
       "      <td>3</td>\n",
       "      <td>marta rocha</td>\n",
       "      <td>gerencia</td>\n",
       "      <td>2022-07-20</td>\n",
       "      <td>1145678901</td>\n",
       "      <td>marta.rochaa@email.com</td>\n",
       "      <td>praca da liberdade, 789</td>\n",
       "      <td>parque dos sabias</td>\n",
       "      <td>sao paulo</td>\n",
       "      <td>sp</td>\n",
       "      <td>1000001</td>\n",
       "    </tr>\n",
       "    <tr>\n",
       "      <th>3</th>\n",
       "      <td>4</td>\n",
       "      <td>sofia ramos</td>\n",
       "      <td>tecnico</td>\n",
       "      <td>2022-01-12</td>\n",
       "      <td>1198765432</td>\n",
       "      <td>sofia.ramos@email.com</td>\n",
       "      <td>alameda dos pinheiros, 234</td>\n",
       "      <td>floresta dos pinheiros</td>\n",
       "      <td>sao paulo</td>\n",
       "      <td>sp</td>\n",
       "      <td>40000001</td>\n",
       "    </tr>\n",
       "    <tr>\n",
       "      <th>4</th>\n",
       "      <td>5</td>\n",
       "      <td>joao pereira</td>\n",
       "      <td>estoque</td>\n",
       "      <td>2022-09-05</td>\n",
       "      <td>1123456789</td>\n",
       "      <td>joao.pereira@email.com</td>\n",
       "      <td>travessa dos girassois, 567</td>\n",
       "      <td>centro</td>\n",
       "      <td>sao paulo</td>\n",
       "      <td>sp</td>\n",
       "      <td>20000001</td>\n",
       "    </tr>\n",
       "    <tr>\n",
       "      <th>5</th>\n",
       "      <td>6</td>\n",
       "      <td>talita borges</td>\n",
       "      <td>financeiro</td>\n",
       "      <td>2022-04-02</td>\n",
       "      <td>1156789012</td>\n",
       "      <td>talita.borges@email.com</td>\n",
       "      <td>rodovia do mar, 890</td>\n",
       "      <td>nova aurora</td>\n",
       "      <td>sao paulo</td>\n",
       "      <td>sp</td>\n",
       "      <td>90000001</td>\n",
       "    </tr>\n",
       "    <tr>\n",
       "      <th>6</th>\n",
       "      <td>7</td>\n",
       "      <td>larissa freitas</td>\n",
       "      <td>vendas</td>\n",
       "      <td>2023-01-10</td>\n",
       "      <td>1187654321</td>\n",
       "      <td>larissa.freitas@email.com</td>\n",
       "      <td>beco das estrelas, 1234</td>\n",
       "      <td>centro</td>\n",
       "      <td>sao paulo</td>\n",
       "      <td>sp</td>\n",
       "      <td>20000001</td>\n",
       "    </tr>\n",
       "  </tbody>\n",
       "</table>\n",
       "</div>"
      ],
      "text/plain": [
       "   ID_Funcionarios             Nome       Cargo DataContratacao    Telefone  \\\n",
       "0                1      carla souza      vendas      2022-03-15  1134567890   \n",
       "1                2      paulo silva      vendas      2022-05-10  1123456789   \n",
       "2                3      marta rocha    gerencia      2022-07-20  1145678901   \n",
       "3                4      sofia ramos     tecnico      2022-01-12  1198765432   \n",
       "4                5     joao pereira     estoque      2022-09-05  1123456789   \n",
       "5                6    talita borges  financeiro      2022-04-02  1156789012   \n",
       "6                7  larissa freitas      vendas      2023-01-10  1187654321   \n",
       "\n",
       "                       Email                          Rua  \\\n",
       "0      carla.souza@email.com          rua das flores, 123   \n",
       "1      paulo.silva@email.com          avenida do sol, 456   \n",
       "2     marta.rochaa@email.com      praca da liberdade, 789   \n",
       "3      sofia.ramos@email.com   alameda dos pinheiros, 234   \n",
       "4     joao.pereira@email.com  travessa dos girassois, 567   \n",
       "5    talita.borges@email.com          rodovia do mar, 890   \n",
       "6  larissa.freitas@email.com      beco das estrelas, 1234   \n",
       "\n",
       "                   Bairro     Cidade Estado       cep  \n",
       "0          vila esperanca  sao paulo     sp   1000001  \n",
       "1      jardim da harmonia  sao paulo     sp  20000001  \n",
       "2       parque dos sabias  sao paulo     sp   1000001  \n",
       "3  floresta dos pinheiros  sao paulo     sp  40000001  \n",
       "4                  centro  sao paulo     sp  20000001  \n",
       "5             nova aurora  sao paulo     sp  90000001  \n",
       "6                  centro  sao paulo     sp  20000001  "
      ]
     },
     "execution_count": 5,
     "metadata": {},
     "output_type": "execute_result"
    }
   ],
   "source": [
    "df = pd.read_sql_table('Funcionarios', engine)\n",
    "df"
   ]
  },
  {
   "cell_type": "code",
   "execution_count": 6,
   "metadata": {},
   "outputs": [],
   "source": [
    "import os\n",
    "from dotenv import load_dotenv\n",
    "load_dotenv()\n",
    "\n",
    "GROQ_API_KEY = os.getenv('GROQ_API_KEY')"
   ]
  },
  {
   "cell_type": "code",
   "execution_count": 7,
   "metadata": {},
   "outputs": [
    {
     "name": "stderr",
     "output_type": "stream",
     "text": [
      "/home/josiel/dev/work/python/llama-index-study/.venv/lib/python3.12/site-packages/tqdm/auto.py:21: TqdmWarning: IProgress not found. Please update jupyter and ipywidgets. See https://ipywidgets.readthedocs.io/en/stable/user_install.html\n",
      "  from .autonotebook import tqdm as notebook_tqdm\n"
     ]
    }
   ],
   "source": [
    "from llama_index.core import Settings\n",
    "from llama_index.llms.groq import Groq\n",
    "from llama_index.embeddings.huggingface import HuggingFaceEmbedding\n",
    "\n",
    "llama_model = 'llama-3.3-70b-versatile'\n",
    "hf_embedings_model = 'BAAI/bge-m3'\n",
    "\n",
    "Settings.llm = Groq(model=llama_model, api_key=GROQ_API_KEY)\n",
    "Settings.embed_model = HuggingFaceEmbedding(model_name=hf_embedings_model)"
   ]
  },
  {
   "cell_type": "code",
   "execution_count": 8,
   "metadata": {},
   "outputs": [],
   "source": [
    "from llama_index.core import SQLDatabase\n",
    "from llama_index.core.objects import SQLTableNodeMapping\n",
    "\n",
    "sql_dtabase = SQLDatabase(\n",
    "    engine=engine\n",
    ")\n",
    "\n",
    "table_node_map = SQLTableNodeMapping(\n",
    "    sql_database=sql_dtabase\n",
    ")"
   ]
  },
  {
   "cell_type": "code",
   "execution_count": 9,
   "metadata": {},
   "outputs": [],
   "source": [
    "from llama_index.core.objects import SQLTableSchema\n",
    "\n",
    "table_schema_obj = []\n",
    "\n",
    "for table in metadata_obj.tables.keys():\n",
    "    table_schema_obj.append(SQLTableSchema(table_name=table))\n"
   ]
  },
  {
   "cell_type": "code",
   "execution_count": 10,
   "metadata": {},
   "outputs": [],
   "source": [
    "from llama_index.core.objects import ObjectIndex\n",
    "from llama_index.core import VectorStoreIndex\n",
    "\n",
    "obj_index = ObjectIndex.from_objects(table_schema_obj, table_node_map, VectorStoreIndex)"
   ]
  },
  {
   "cell_type": "code",
   "execution_count": 11,
   "metadata": {},
   "outputs": [],
   "source": [
    "obj_retriever = obj_index.as_retriever(similarity_top_k=1)"
   ]
  },
  {
   "cell_type": "code",
   "execution_count": 12,
   "metadata": {},
   "outputs": [],
   "source": [
    "from llama_index.core.indices.struct_store.sql_query import SQLTableRetrieverQueryEngine\n",
    "\n",
    "query_engine = SQLTableRetrieverQueryEngine(sql_database=sql_dtabase, table_retriever=obj_retriever)"
   ]
  },
  {
   "cell_type": "code",
   "execution_count": 13,
   "metadata": {},
   "outputs": [
    {
     "name": "stdout",
     "output_type": "stream",
     "text": [
      "Os estados mais frequentes na tabela de clientes são Parana e Para, ambos com 7 ocorrências. Em seguida, vêm Rondônia com 6 ocorrências, e vários estados com 5 ocorrências, incluindo Tocantins, Sergipe, Rio de Janeiro, Maranhão, Goiás, Ceará e Amapá. Esses resultados mostram a distribuição geográfica dos clientes na base de dados.\n"
     ]
    }
   ],
   "source": [
    "response = query_engine.query('Quais os estados mais frequentes na tabela de clientes?')\n",
    "print(response)"
   ]
  },
  {
   "cell_type": "code",
   "execution_count": 14,
   "metadata": {},
   "outputs": [
    {
     "name": "stdout",
     "output_type": "stream",
     "text": [
      "{'fd8acc1a-2abb-46e0-90be-80c03819632b': {'sql_query': 'SELECT Estado, COUNT(ID_Cliente) AS Frequencia FROM Clientes GROUP BY Estado ORDER BY Frequencia DESC', 'result': [('parana', 7), ('para', 7), ('rondonia', 6), ('tocantins', 5), ('sergipe', 5), ('rio de janeiro', 5), ('maranhao', 5), ('goias', 5), ('ceara', 5), ('amapa', 5), ('roraima', 4), ('rio grande do norte', 4), ('piaui', 4), ('pernambuco', 4), ('distrito federal', 4), ('sao paulo', 3), ('minas gerais', 3), ('mato grosso do sul', 3), ('bahia', 3), ('santa catarina', 2), ('rio grande do sul', 2), ('paraiba', 2), ('mato grosso', 2), ('amazonas', 2), ('espirito santo', 1), ('alagoas', 1), ('acre', 1)], 'col_keys': ['Estado', 'Frequencia']}, 'sql_query': 'SELECT Estado, COUNT(ID_Cliente) AS Frequencia FROM Clientes GROUP BY Estado ORDER BY Frequencia DESC', 'result': [('parana', 7), ('para', 7), ('rondonia', 6), ('tocantins', 5), ('sergipe', 5), ('rio de janeiro', 5), ('maranhao', 5), ('goias', 5), ('ceara', 5), ('amapa', 5), ('roraima', 4), ('rio grande do norte', 4), ('piaui', 4), ('pernambuco', 4), ('distrito federal', 4), ('sao paulo', 3), ('minas gerais', 3), ('mato grosso do sul', 3), ('bahia', 3), ('santa catarina', 2), ('rio grande do sul', 2), ('paraiba', 2), ('mato grosso', 2), ('amazonas', 2), ('espirito santo', 1), ('alagoas', 1), ('acre', 1)], 'col_keys': ['Estado', 'Frequencia']}\n"
     ]
    }
   ],
   "source": [
    "print(response.metadata)"
   ]
  },
  {
   "cell_type": "code",
   "execution_count": 15,
   "metadata": {},
   "outputs": [
    {
     "name": "stdout",
     "output_type": "stream",
     "text": [
      "Não há fornecedoras localizadas na cidade de São Paulo. A busca não retornou nenhum resultado.\n"
     ]
    }
   ],
   "source": [
    "response = query_engine.query('Quais as fornecedoras localizadas na cidadde de São Paulo?')\n",
    "print(response)"
   ]
  },
  {
   "cell_type": "code",
   "execution_count": 16,
   "metadata": {},
   "outputs": [
    {
     "name": "stdout",
     "output_type": "stream",
     "text": [
      "Não há funcionários localizados na cidade de São Paulo. A consulta ao banco de dados não retornou resultados.\n"
     ]
    }
   ],
   "source": [
    "response = query_engine.query('Quais funcionarios localizados na cidade de São Paulo?')\n",
    "print(response)"
   ]
  },
  {
   "cell_type": "markdown",
   "metadata": {},
   "source": [
    "# Contextualizing model"
   ]
  },
  {
   "cell_type": "code",
   "execution_count": 17,
   "metadata": {},
   "outputs": [],
   "source": [
    "llm = Groq(model=llama_model, api_key=GROQ_API_KEY)\n",
    "\n",
    "def generate_table_description(table_name, sample_df):\n",
    "    prompt = f'''\n",
    "    Analyze the sample of the table '{table_name}' below and give a short and concise description of the table contents.\n",
    "    Inform up to 5 unique values of each column.\n",
    "\n",
    "    Table sample:\n",
    "    {sample_df}\n",
    "\n",
    "    Description:\n",
    "    '''\n",
    "\n",
    "    response = llm.complete(prompt)\n",
    "\n",
    "    return response.text"
   ]
  },
  {
   "cell_type": "code",
   "execution_count": 18,
   "metadata": {},
   "outputs": [
    {
     "name": "stdout",
     "output_type": "stream",
     "text": [
      "Table: Clientes\n",
      "Description:\n",
      "The 'Clientes' table contains information about clients, including their identification, contact details, address, and spending history. \n",
      "\n",
      "Here are up to 5 unique values for each column:\n",
      "\n",
      "- ID_Cliente: 1, 2, 3, 4, 5\n",
      "- Nome: lucas moura, julia andrade, rafael dias, carla souza, felipe neto\n",
      "- Email: lucas.moura@email.com, julia.andrade@email.com, rafael.dias@email.com, carla.souza@email.com, felipe.neto@email.com\n",
      "- Rua_Numero: sitio de cardoso, 49, trecho mariane teixeira, 90, setor de duarte, 114, recanto ana livia lopes, 53, jardim de monteiro, 11\n",
      "- Estado: sao paulo, tocantins, paraiba, para\n",
      "- Valor_gasto: 29017, 7834, 4071, 17512, 24307\n",
      "---------------\n",
      "Table: Fornecedores\n",
      "Description:\n",
      "The table 'Fornecedores' appears to contain information about suppliers or vendors. It includes details such as unique identifier, company name, contact person, phone number, email address, street address, neighborhood, city, state, and postal code.\n",
      "\n",
      "Here are up to 5 unique values for each column:\n",
      "\n",
      "1. ID_Fornecedores: 1, 2, 3, 4, 5\n",
      "2. Nome: technex solutions, quantum devices, innovatetech corporation, electrogadget innovations, nexustech systems\n",
      "3. Contato: lucas martins, isabela oliveira, rafael pereira, ana silva, pedro almeida\n",
      "4. Telefone: 11912345678, 11923456789, 11934567890, 11945678901, 11956789012\n",
      "5. Email: info@technexsolutions.com, contact@quantumdevices.net, support@innovatetechcorp.com, sales@electrogadgetinnovations.com, info@nexustechsystems.com\n",
      "6. Rua: rua das inovacoes, avenida tecnologica, alameda do progresso, rua eletronica, travessa da conexao\n",
      "7. Bairro: centro, jardim futuro, centro das inovacoes, vila progresso, parque das maravilhas\n",
      "8. Cidade: sao paulo, guarulhos, santo andre, sao caetano\n",
      "9. Estado: sp\n",
      "10. cep: 1000000, 20000000, 30000000, 40000000, 88000000\n",
      "---------------\n",
      "Table: Funcionarios\n",
      "Description:\n",
      "The 'Funcionarios' table contains information about employees, including their identification, personal details, job information, and contact details. \n",
      "\n",
      "Here are up to 5 unique values for each column:\n",
      "\n",
      "1. ID_Funcionarios: 1, 2, 3, 4, 5\n",
      "2. Nome: carla souza, paulo silva, marta rocha, sofia ramos, joao pereira\n",
      "3. Cargo: vendas, gerencia, tecnico, estoque\n",
      "4. DataContratacao: 2022-03-15, 2022-05-10, 2022-07-20, 2022-01-12, 2022-09-05\n",
      "5. Telefone: 1134567890, 1123456789, 1145678901, 1198765432\n",
      "6. Email: carla.souza@email.com, paulo.silva@email.com, marta.rochaa@email.com, sofia.ramos@email.com, joao.pereira@email.com\n",
      "7. Rua: rua das flores, avenida do sol, praca da liberdade, alameda dos pinheiros, travessa dos girassois\n",
      "8. Bairro: vila esperanca, jardim da harmonia, parque dos sabias, floresta dos pinheiros, centro\n",
      "9. Cidade: sao paulo\n",
      "10. Estado: sp\n",
      "11. cep: 1000001, 20000001, 40000001\n",
      "---------------\n"
     ]
    }
   ],
   "source": [
    "tables_names = metadata_obj.tables.keys()\n",
    "tables_dict = {}\n",
    "\n",
    "for table_name in tables_names:\n",
    "    df = pd.read_sql_table(table_name, engine)\n",
    "    sample_df = df.head(5).to_string()\n",
    "\n",
    "    description = generate_table_description(table_name, sample_df)\n",
    "    tables_dict[table_name] = description\n",
    "\n",
    "    print(f'Table: {table_name}\\nDescription:\\n{description}')\n",
    "    print('-'*15)"
   ]
  },
  {
   "cell_type": "code",
   "execution_count": 19,
   "metadata": {},
   "outputs": [],
   "source": [
    "table_schema_obj = [\n",
    "    SQLTableSchema(table_name=table_name,context_str=tables_dict[table_name])\n",
    "    for table_name in tables_names\n",
    "]"
   ]
  },
  {
   "cell_type": "code",
   "execution_count": 20,
   "metadata": {},
   "outputs": [],
   "source": [
    "obj_index = ObjectIndex.from_objects(table_schema_obj, table_node_map, VectorStoreIndex)\n",
    "obj_retriever = obj_index.as_retriever(similarity_top_k=1)"
   ]
  },
  {
   "cell_type": "code",
   "execution_count": 21,
   "metadata": {},
   "outputs": [],
   "source": [
    "query_engine2 = SQLTableRetrieverQueryEngine(sql_database=sql_dtabase, table_retriever=obj_retriever)"
   ]
  },
  {
   "cell_type": "code",
   "execution_count": 22,
   "metadata": {},
   "outputs": [
    {
     "name": "stdout",
     "output_type": "stream",
     "text": [
      "Os estados mais frequentes na tabela de clientes são Parana e Para, ambos com 7 ocorrências. Em seguida, vêm Rondônia com 6 ocorrências, e vários estados com 5 ocorrências, incluindo Tocantins, Sergipe, Rio de Janeiro, Maranhão, Goiás, Ceará e Amapá. Esses resultados mostram a distribuição geográfica dos clientes na base de dados.\n"
     ]
    }
   ],
   "source": [
    "response = query_engine2.query('Quais os estados mais frequentes na tabela de clientes?')\n",
    "print(response)"
   ]
  },
  {
   "cell_type": "code",
   "execution_count": 23,
   "metadata": {},
   "outputs": [
    {
     "name": "stdout",
     "output_type": "stream",
     "text": [
      "As fornecedoras localizadas na cidade de São Paulo são:\n",
      "\n",
      "1. Technex Solutions, localizada na Rua das Inovações, 123, no bairro do Centro.\n",
      "2. Nexustech Systems, localizada na Travessa da Conexão, 567, no bairro do Parque das Maravilhas.\n",
      "\n",
      "Essas são as duas fornecedoras que atendem ao critério de estar localizadas na cidade de São Paulo, de acordo com os dados disponíveis.\n"
     ]
    }
   ],
   "source": [
    "response = query_engine2.query('Quais as fornecedoras localizadas na cidadde de São Paulo?')\n",
    "print(response)"
   ]
  },
  {
   "cell_type": "code",
   "execution_count": 24,
   "metadata": {},
   "outputs": [
    {
     "name": "stdout",
     "output_type": "stream",
     "text": [
      "Os funcionários localizados na cidade de São Paulo são: \n",
      "\n",
      "1. Carla Souza - Vendas\n",
      "2. Paulo Silva - Vendas\n",
      "3. Marta Rocha - Gerência\n",
      "4. Sofia Ramos - Técnico\n",
      "5. Joao Pereira - Estoque\n",
      "6. Talita Borges - Financeiro\n",
      "7. Larissa Freitas - Vendas\n",
      "\n",
      "Esses são os funcionários que atuam na cidade de São Paulo, de acordo com os cargos especificados.\n"
     ]
    }
   ],
   "source": [
    "response = query_engine2.query('Quais funcionarios localizados na cidade de São Paulo?')\n",
    "print(response)"
   ]
  },
  {
   "cell_type": "markdown",
   "metadata": {},
   "source": [
    "## Prompts personalization"
   ]
  },
  {
   "cell_type": "code",
   "execution_count": 25,
   "metadata": {},
   "outputs": [
    {
     "name": "stdout",
     "output_type": "stream",
     "text": [
      "Given an input question, first create a syntactically correct {dialect} query to run, then look at the results of the query and return the answer. You can order the results by a relevant column to return the most interesting examples in the database.\n",
      "\n",
      "Never query for all the columns from a specific table, only ask for a few relevant columns given the question.\n",
      "\n",
      "Pay attention to use only the column names that you can see in the schema description. Be careful to not query for columns that do not exist. Pay attention to which column is in which table. Also, qualify column names with the table name when needed. You are required to use the following format, each taking one line:\n",
      "\n",
      "Question: Question here\n",
      "SQLQuery: SQL Query to run\n",
      "SQLResult: Result of the SQLQuery\n",
      "Answer: Final answer here\n",
      "\n",
      "Only use tables listed below.\n",
      "{schema}\n",
      "\n",
      "Question: {query_str}\n",
      "SQLQuery: \n"
     ]
    }
   ],
   "source": [
    "from llama_index.core.prompts.default_prompts import DEFAULT_TEXT_TO_SQL_PROMPT\n",
    "print(DEFAULT_TEXT_TO_SQL_PROMPT.template)"
   ]
  },
  {
   "cell_type": "code",
   "execution_count": 26,
   "metadata": {},
   "outputs": [],
   "source": [
    "from llama_index.core import PromptTemplate\n",
    "\n",
    "prompt = '''\n",
    "Given an input question, first create a syntactically correct {dialect} query to run, then look at the results of the query and return the answer. You can order the results by a relevant column to return the most interesting examples in the database.\n",
    "\n",
    "Never query for all the columns from a specific table, only ask for a few relevant columns given the question.\n",
    "\n",
    "Pay attention to use only the column names that you can see in the schema description. Be careful to not query for columns that do not exist. Pay attention to which column is in which table. Also, qualify column names with the table name when needed. You are required to use the following format, each taking one line:\n",
    "\n",
    "Question: Question here\n",
    "SQLQuery: SQL Query to run\n",
    "SQLResult: Result of the SQLQuery\n",
    "Answer: Final answer here\n",
    "\n",
    "Only use tables listed below.\n",
    "{schema}\n",
    "\n",
    "Question: {query_str}\n",
    "SQLQuery: \n",
    "'''\n",
    "\n",
    "prompt_1 = PromptTemplate(prompt, dialect = engine.dialect.name)"
   ]
  },
  {
   "cell_type": "markdown",
   "metadata": {},
   "source": [
    "### Table Descriptions"
   ]
  },
  {
   "cell_type": "code",
   "execution_count": 27,
   "metadata": {},
   "outputs": [],
   "source": [
    "from typing import List\n",
    "\n",
    "def table_description(tables_schema: List[SQLTableSchema]):\n",
    "    descriptions = []\n",
    "    for table_schema in tables_schema:\n",
    "        table_info = sql_dtabase.get_single_table_info(table_schema.table_name)\n",
    "        table_info += (' The table\\'s description is: ' + table_schema.context_str) \n",
    "\n",
    "        descriptions.append(table_info)\n",
    "    return '\\n\\n'.join(descriptions)\n"
   ]
  },
  {
   "cell_type": "code",
   "execution_count": 28,
   "metadata": {},
   "outputs": [],
   "source": [
    "from llama_index.core.query_pipeline import FnComponent\n",
    "\n",
    "table_context = FnComponent(fn=table_description)"
   ]
  },
  {
   "cell_type": "code",
   "execution_count": 29,
   "metadata": {},
   "outputs": [],
   "source": [
    "from llama_index.core.llms import ChatResponse\n",
    "\n",
    "def sql_response(response: ChatResponse) -> str:\n",
    "    response_content = response.message.content\n",
    "\n",
    "    sql_query = response_content.split(\"SQLQuery: \", 1)[-1].split(\"SQLResult: \", 1)[0]\n",
    "\n",
    "    return sql_query.strip().strip('```').strip()\n",
    "\n",
    "\n",
    "sql_query = FnComponent(fn=sql_response)"
   ]
  },
  {
   "cell_type": "code",
   "execution_count": 30,
   "metadata": {},
   "outputs": [],
   "source": [
    "from llama_index.core.retrievers import SQLRetriever\n",
    "\n",
    "sql_result = SQLRetriever(sql_database=sql_dtabase)"
   ]
  },
  {
   "cell_type": "code",
   "execution_count": 31,
   "metadata": {},
   "outputs": [],
   "source": [
    "prompt_2_str = '''\n",
    "You are a Database query assistant.\n",
    "Given the follow question, the SQL query and the SQL result, respond the user question in a nice way and be objective.\n",
    "Avoid to start the conversation with apresentations or salutations, like \"Hello\".capitalize\n",
    "\n",
    "Question: {user_question}\n",
    "SQL query: {query}\n",
    "SQL result: {result}\n",
    "Response:\n",
    "'''\n",
    "\n",
    "prompt_2 = PromptTemplate(prompt_2_str)"
   ]
  },
  {
   "cell_type": "code",
   "execution_count": 32,
   "metadata": {},
   "outputs": [],
   "source": [
    "from llama_index.core.query_pipeline import QueryPipeline, InputComponent\n",
    "\n",
    "qp = QueryPipeline(\n",
    "    modules={\n",
    "        \"input\": InputComponent(),\n",
    "        \"table_access\": obj_retriever,\n",
    "        \"table_context\": table_context,\n",
    "        \"prompt_1\": prompt_1,\n",
    "        \"llm_1\": llm,\n",
    "        \"sql_query\": sql_query,\n",
    "        \"sql_result\": sql_result,\n",
    "        \"prompt_2\": prompt_2,\n",
    "        \"llm_2\": llm\n",
    "    },\n",
    "    verbose=True\n",
    ")"
   ]
  },
  {
   "cell_type": "code",
   "execution_count": 33,
   "metadata": {},
   "outputs": [],
   "source": [
    "qp.add_chain(['input', 'table_access', 'table_context'])\n",
    "qp.add_link('input', 'prompt_1', dest_key='query_str')\n",
    "qp.add_link('table_context', 'prompt_1', dest_key='schema')\n",
    "\n",
    "qp.add_chain(['prompt_1', 'llm_1', 'sql_query', 'sql_result'])\n",
    "qp.add_link('input', 'prompt_2', dest_key='user_question')\n",
    "qp.add_link('sql_query', 'prompt_2', dest_key='query')\n",
    "qp.add_link('sql_result', 'prompt_2', dest_key='result')\n",
    "qp.add_link('prompt_2', 'llm_2')\n"
   ]
  },
  {
   "cell_type": "markdown",
   "metadata": {},
   "source": [
    "### Testing the outputs"
   ]
  },
  {
   "cell_type": "code",
   "execution_count": 36,
   "metadata": {},
   "outputs": [
    {
     "name": "stdout",
     "output_type": "stream",
     "text": [
      "\u001b[1;3;38;2;155;135;227m> Running module input with input: \n",
      "query: Quais os estados mais frequentes na tabela de Clientes?\n",
      "\n",
      "\u001b[0m\u001b[1;3;38;2;155;135;227m> Running module table_access with input: \n",
      "input: Quais os estados mais frequentes na tabela de Clientes?\n",
      "\n",
      "\u001b[0m\u001b[1;3;38;2;155;135;227m> Running module table_context with input: \n",
      "tables_schema: [SQLTableSchema(table_name='Clientes', context_str=\"The 'Clientes' table contains information about clients, including their identification, contact details, address, and spending history. \\n\\nHere ar...\n",
      "\n",
      "\u001b[0m\u001b[1;3;38;2;155;135;227m> Running module prompt_1 with input: \n",
      "query_str: Quais os estados mais frequentes na tabela de Clientes?\n",
      "schema: Table 'Clientes' has columns: ID_Cliente (BIGINT), Nome (TEXT), Email (TEXT), Rua_Numero (TEXT), Estado (TEXT), Valor_gasto (BIGINT), . The table's description is: The 'Clientes' table contains inform...\n",
      "\n",
      "\u001b[0m\u001b[1;3;38;2;155;135;227m> Running module llm_1 with input: \n",
      "messages: \n",
      "Given an input question, first create a syntactically correct sqlite query to run, then look at the results of the query and return the answer. You can order the results by a relevant column to retur...\n",
      "\n",
      "\u001b[0m\u001b[1;3;38;2;155;135;227m> Running module sql_query with input: \n",
      "response: assistant: Question: Quais os estados mais frequentes na tabela de Clientes?\n",
      "SQLQuery: SELECT Estado, COUNT(Estado) as Frequencia FROM Clientes GROUP BY Estado ORDER BY Frequencia DESC\n",
      "SQLResult: \n",
      "Est...\n",
      "\n",
      "\u001b[0m\u001b[1;3;38;2;155;135;227m> Running module sql_result with input: \n",
      "input: SELECT Estado, COUNT(Estado) as Frequencia FROM Clientes GROUP BY Estado ORDER BY Frequencia DESC\n",
      "\n",
      "\u001b[0m\u001b[1;3;38;2;155;135;227m> Running module prompt_2 with input: \n",
      "user_question: Quais os estados mais frequentes na tabela de Clientes?\n",
      "query: SELECT Estado, COUNT(Estado) as Frequencia FROM Clientes GROUP BY Estado ORDER BY Frequencia DESC\n",
      "result: [NodeWithScore(node=TextNode(id_='14eaf035-63ff-4a87-817f-a09060891a1d', embedding=None, metadata={'sql_query': 'SELECT Estado, COUNT(Estado) as Frequencia FROM Clientes GROUP BY Estado ORDER BY Frequ...\n",
      "\n",
      "\u001b[0m\u001b[1;3;38;2;155;135;227m> Running module llm_2 with input: \n",
      "messages: \n",
      "You are a Database query assistant.\n",
      "Given the follow question, the SQL query and the SQL result, respond the user question in a nice way and be objective.\n",
      "Avoid to start the conversation with apresen...\n",
      "\n",
      "\u001b[0massistant: Os estados mais frequentes na tabela de Clientes são Parana e Para, ambos com 7 ocorrências. Em seguida, aparece Rondonia com 6 ocorrências, e vários estados com 5 ocorrências, incluindo Tocantins, Sergipe, Rio de Janeiro, Maranhao, Goias, Ceara e Amapa. Esses resultados indicam que a maioria dos clientes está concentrada nesses estados, com uma distribuição razoavelmente uniforme entre os demais estados brasileiros.\n"
     ]
    }
   ],
   "source": [
    "response = qp.run(query=\"Quais os estados mais frequentes na tabela de Clientes?\")\n",
    "print(str(response))"
   ]
  },
  {
   "cell_type": "code",
   "execution_count": 37,
   "metadata": {},
   "outputs": [
    {
     "name": "stdout",
     "output_type": "stream",
     "text": [
      "assistant: Os estados mais frequentes na tabela de Clientes são Parana e Para, ambos com 7 ocorrências. Em seguida, aparece Rondonia com 6 ocorrências, e vários estados com 5 ocorrências, incluindo Tocantins, Sergipe, Rio de Janeiro, Maranhao, Goias, Ceara e Amapa. Esses resultados indicam que a maioria dos clientes está concentrada nesses estados, com uma distribuição razoavelmente uniforme entre os demais estados brasileiros.\n"
     ]
    }
   ],
   "source": [
    "print(str(response))"
   ]
  }
 ],
 "metadata": {
  "kernelspec": {
   "display_name": ".venv",
   "language": "python",
   "name": "python3"
  },
  "language_info": {
   "codemirror_mode": {
    "name": "ipython",
    "version": 3
   },
   "file_extension": ".py",
   "mimetype": "text/x-python",
   "name": "python",
   "nbconvert_exporter": "python",
   "pygments_lexer": "ipython3",
   "version": "3.12.3"
  }
 },
 "nbformat": 4,
 "nbformat_minor": 2
}
