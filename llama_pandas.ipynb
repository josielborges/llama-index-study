{
 "cells": [
  {
   "cell_type": "code",
   "execution_count": 2,
   "metadata": {},
   "outputs": [],
   "source": [
    "import pandas as pd"
   ]
  },
  {
   "cell_type": "code",
   "execution_count": 3,
   "metadata": {},
   "outputs": [],
   "source": [
    "df = pd.read_csv('data/vendas.csv')"
   ]
  },
  {
   "cell_type": "code",
   "execution_count": 4,
   "metadata": {},
   "outputs": [
    {
     "data": {
      "text/html": [
       "<div>\n",
       "<style scoped>\n",
       "    .dataframe tbody tr th:only-of-type {\n",
       "        vertical-align: middle;\n",
       "    }\n",
       "\n",
       "    .dataframe tbody tr th {\n",
       "        vertical-align: top;\n",
       "    }\n",
       "\n",
       "    .dataframe thead th {\n",
       "        text-align: right;\n",
       "    }\n",
       "</style>\n",
       "<table border=\"1\" class=\"dataframe\">\n",
       "  <thead>\n",
       "    <tr style=\"text-align: right;\">\n",
       "      <th></th>\n",
       "      <th>ID_compra</th>\n",
       "      <th>filial</th>\n",
       "      <th>cidade</th>\n",
       "      <th>tipo_cliente</th>\n",
       "      <th>genero</th>\n",
       "      <th>tipo_produto</th>\n",
       "      <th>preco_unitario</th>\n",
       "      <th>quantidade</th>\n",
       "      <th>imposto_5%</th>\n",
       "      <th>total</th>\n",
       "      <th>data</th>\n",
       "      <th>hora</th>\n",
       "      <th>forma_pagamento</th>\n",
       "      <th>avaliacao</th>\n",
       "    </tr>\n",
       "  </thead>\n",
       "  <tbody>\n",
       "    <tr>\n",
       "      <th>0</th>\n",
       "      <td>750-67-8428</td>\n",
       "      <td>A</td>\n",
       "      <td>Santo André</td>\n",
       "      <td>Membro</td>\n",
       "      <td>Feminino</td>\n",
       "      <td>Saúde e Beleza</td>\n",
       "      <td>74.69</td>\n",
       "      <td>7</td>\n",
       "      <td>26.1415</td>\n",
       "      <td>548.9715</td>\n",
       "      <td>2024-01-05</td>\n",
       "      <td>13:08:00</td>\n",
       "      <td>Carteira Digital</td>\n",
       "      <td>9.1</td>\n",
       "    </tr>\n",
       "    <tr>\n",
       "      <th>1</th>\n",
       "      <td>226-31-3081</td>\n",
       "      <td>C</td>\n",
       "      <td>São Caetano</td>\n",
       "      <td>Normal</td>\n",
       "      <td>Feminino</td>\n",
       "      <td>Eletrônicos</td>\n",
       "      <td>15.28</td>\n",
       "      <td>5</td>\n",
       "      <td>3.8200</td>\n",
       "      <td>80.2200</td>\n",
       "      <td>2024-03-08</td>\n",
       "      <td>10:29:00</td>\n",
       "      <td>Dinheiro</td>\n",
       "      <td>9.6</td>\n",
       "    </tr>\n",
       "    <tr>\n",
       "      <th>2</th>\n",
       "      <td>631-41-3108</td>\n",
       "      <td>A</td>\n",
       "      <td>Santo André</td>\n",
       "      <td>Normal</td>\n",
       "      <td>Masculino</td>\n",
       "      <td>Casa</td>\n",
       "      <td>46.33</td>\n",
       "      <td>7</td>\n",
       "      <td>16.2155</td>\n",
       "      <td>340.5255</td>\n",
       "      <td>2024-03-03</td>\n",
       "      <td>13:23:00</td>\n",
       "      <td>Cartão de Crédito</td>\n",
       "      <td>7.4</td>\n",
       "    </tr>\n",
       "    <tr>\n",
       "      <th>3</th>\n",
       "      <td>123-19-1176</td>\n",
       "      <td>A</td>\n",
       "      <td>Santo André</td>\n",
       "      <td>Membro</td>\n",
       "      <td>Masculino</td>\n",
       "      <td>Saúde e Beleza</td>\n",
       "      <td>58.22</td>\n",
       "      <td>8</td>\n",
       "      <td>23.2880</td>\n",
       "      <td>489.0480</td>\n",
       "      <td>2024-01-27</td>\n",
       "      <td>20:33:00</td>\n",
       "      <td>Carteira Digital</td>\n",
       "      <td>8.4</td>\n",
       "    </tr>\n",
       "    <tr>\n",
       "      <th>4</th>\n",
       "      <td>373-73-7910</td>\n",
       "      <td>A</td>\n",
       "      <td>Santo André</td>\n",
       "      <td>Normal</td>\n",
       "      <td>Masculino</td>\n",
       "      <td>Esportes e Viagem</td>\n",
       "      <td>86.31</td>\n",
       "      <td>7</td>\n",
       "      <td>30.2085</td>\n",
       "      <td>634.3785</td>\n",
       "      <td>2024-02-08</td>\n",
       "      <td>10:37:00</td>\n",
       "      <td>Carteira Digital</td>\n",
       "      <td>5.3</td>\n",
       "    </tr>\n",
       "  </tbody>\n",
       "</table>\n",
       "</div>"
      ],
      "text/plain": [
       "     ID_compra filial       cidade tipo_cliente     genero       tipo_produto  \\\n",
       "0  750-67-8428      A  Santo André       Membro   Feminino     Saúde e Beleza   \n",
       "1  226-31-3081      C  São Caetano       Normal   Feminino        Eletrônicos   \n",
       "2  631-41-3108      A  Santo André       Normal  Masculino               Casa   \n",
       "3  123-19-1176      A  Santo André       Membro  Masculino     Saúde e Beleza   \n",
       "4  373-73-7910      A  Santo André       Normal  Masculino  Esportes e Viagem   \n",
       "\n",
       "   preco_unitario  quantidade  imposto_5%     total        data      hora  \\\n",
       "0           74.69           7     26.1415  548.9715  2024-01-05  13:08:00   \n",
       "1           15.28           5      3.8200   80.2200  2024-03-08  10:29:00   \n",
       "2           46.33           7     16.2155  340.5255  2024-03-03  13:23:00   \n",
       "3           58.22           8     23.2880  489.0480  2024-01-27  20:33:00   \n",
       "4           86.31           7     30.2085  634.3785  2024-02-08  10:37:00   \n",
       "\n",
       "     forma_pagamento  avaliacao  \n",
       "0   Carteira Digital        9.1  \n",
       "1           Dinheiro        9.6  \n",
       "2  Cartão de Crédito        7.4  \n",
       "3   Carteira Digital        8.4  \n",
       "4   Carteira Digital        5.3  "
      ]
     },
     "execution_count": 4,
     "metadata": {},
     "output_type": "execute_result"
    }
   ],
   "source": [
    "df.head()"
   ]
  },
  {
   "cell_type": "code",
   "execution_count": 5,
   "metadata": {},
   "outputs": [
    {
     "name": "stdout",
     "output_type": "stream",
     "text": [
      "<class 'pandas.core.frame.DataFrame'>\n",
      "RangeIndex: 1000 entries, 0 to 999\n",
      "Data columns (total 14 columns):\n",
      " #   Column           Non-Null Count  Dtype  \n",
      "---  ------           --------------  -----  \n",
      " 0   ID_compra        1000 non-null   object \n",
      " 1   filial           1000 non-null   object \n",
      " 2   cidade           1000 non-null   object \n",
      " 3   tipo_cliente     1000 non-null   object \n",
      " 4   genero           1000 non-null   object \n",
      " 5   tipo_produto     1000 non-null   object \n",
      " 6   preco_unitario   1000 non-null   float64\n",
      " 7   quantidade       1000 non-null   int64  \n",
      " 8   imposto_5%       1000 non-null   float64\n",
      " 9   total            1000 non-null   float64\n",
      " 10  data             1000 non-null   object \n",
      " 11  hora             1000 non-null   object \n",
      " 12  forma_pagamento  1000 non-null   object \n",
      " 13  avaliacao        1000 non-null   float64\n",
      "dtypes: float64(4), int64(1), object(9)\n",
      "memory usage: 109.5+ KB\n"
     ]
    }
   ],
   "source": [
    "df.info()"
   ]
  },
  {
   "cell_type": "code",
   "execution_count": 6,
   "metadata": {},
   "outputs": [
    {
     "data": {
      "text/plain": [
       "np.int64(0)"
      ]
     },
     "execution_count": 6,
     "metadata": {},
     "output_type": "execute_result"
    }
   ],
   "source": [
    "df.duplicated().sum()"
   ]
  },
  {
   "cell_type": "code",
   "execution_count": 7,
   "metadata": {},
   "outputs": [],
   "source": [
    "import os\n",
    "from dotenv import load_dotenv\n",
    "load_dotenv()\n",
    "\n",
    "GROQ_API_KEY = os.getenv('GROQ_API_KEY')"
   ]
  },
  {
   "cell_type": "code",
   "execution_count": 8,
   "metadata": {},
   "outputs": [
    {
     "name": "stderr",
     "output_type": "stream",
     "text": [
      "/home/josiel/dev/work/python/llama-index-study/.venv/lib/python3.12/site-packages/tqdm/auto.py:21: TqdmWarning: IProgress not found. Please update jupyter and ipywidgets. See https://ipywidgets.readthedocs.io/en/stable/user_install.html\n",
      "  from .autonotebook import tqdm as notebook_tqdm\n"
     ]
    }
   ],
   "source": [
    "from llama_index.core import Settings\n",
    "from llama_index.llms.groq import Groq\n",
    "\n",
    "Settings.llm = Groq(model=\"llama3-70b-8192\", api_key=GROQ_API_KEY)"
   ]
  },
  {
   "cell_type": "code",
   "execution_count": 9,
   "metadata": {},
   "outputs": [],
   "source": [
    "from llama_index.experimental.query_engine import PandasQueryEngine"
   ]
  },
  {
   "cell_type": "code",
   "execution_count": 10,
   "metadata": {},
   "outputs": [],
   "source": [
    "query_engine = PandasQueryEngine(df=df, verbose=True)"
   ]
  },
  {
   "cell_type": "code",
   "execution_count": 11,
   "metadata": {},
   "outputs": [
    {
     "name": "stdout",
     "output_type": "stream",
     "text": [
      "INFO:httpx:HTTP Request: POST https://api.groq.com/openai/v1/chat/completions \"HTTP/1.1 200 OK\"\n",
      "HTTP Request: POST https://api.groq.com/openai/v1/chat/completions \"HTTP/1.1 200 OK\"\n",
      "> Pandas Instructions:\n",
      "```\n",
      "df.groupby('filial')['forma_pagamento'].value_counts().groupby('filial').idxmax()\n",
      "```\n",
      "> Pandas Output: filial\n",
      "A    (A, Carteira Digital)\n",
      "B    (B, Carteira Digital)\n",
      "C            (C, Dinheiro)\n",
      "Name: count, dtype: object\n"
     ]
    }
   ],
   "source": [
    "response = query_engine.query(\"Qual é a forma de pagamento mais utilizada pelos clientes de cada filial?\")"
   ]
  },
  {
   "cell_type": "code",
   "execution_count": 12,
   "metadata": {},
   "outputs": [
    {
     "name": "stdout",
     "output_type": "stream",
     "text": [
      "INFO:httpx:HTTP Request: POST https://api.groq.com/openai/v1/chat/completions \"HTTP/1.1 200 OK\"\n",
      "HTTP Request: POST https://api.groq.com/openai/v1/chat/completions \"HTTP/1.1 200 OK\"\n",
      "> Pandas Instructions:\n",
      "```\n",
      "df.groupby(['filial', 'tipo_produto'])['quantidade'].sum().groupby('filial').idxmax()\n",
      "```\n",
      "> Pandas Output: filial\n",
      "A                   (A, Casa)\n",
      "B      (B, Esportes e Viagem)\n",
      "C    (C, Alimentos e Bebidas)\n",
      "Name: quantidade, dtype: object\n"
     ]
    }
   ],
   "source": [
    "response = query_engine.query(\"Qual é o tipo de produto com maior quantidade por filial? Mostre o a filial e o tipo de produto\")"
   ]
  },
  {
   "cell_type": "code",
   "execution_count": 16,
   "metadata": {},
   "outputs": [
    {
     "name": "stdout",
     "output_type": "stream",
     "text": [
      "INFO:httpx:HTTP Request: POST https://api.groq.com/openai/v1/chat/completions \"HTTP/1.1 200 OK\"\n",
      "HTTP Request: POST https://api.groq.com/openai/v1/chat/completions \"HTTP/1.1 200 OK\"\n",
      "> Pandas Instructions:\n",
      "```\n",
      "df.groupby('filial')['total'].sum().idxmax()\n",
      "```\n",
      "> Pandas Output: C\n"
     ]
    }
   ],
   "source": [
    "response = query_engine.query(\"Qual a filial com maior faturamento?\")"
   ]
  },
  {
   "cell_type": "code",
   "execution_count": 14,
   "metadata": {},
   "outputs": [
    {
     "data": {
      "text/plain": [
       "'C'"
      ]
     },
     "execution_count": 14,
     "metadata": {},
     "output_type": "execute_result"
    }
   ],
   "source": [
    "df.groupby('filial')['total'].sum().idxmax()"
   ]
  },
  {
   "cell_type": "code",
   "execution_count": null,
   "metadata": {},
   "outputs": [],
   "source": []
  }
 ],
 "metadata": {
  "kernelspec": {
   "display_name": ".venv",
   "language": "python",
   "name": "python3"
  },
  "language_info": {
   "codemirror_mode": {
    "name": "ipython",
    "version": 3
   },
   "file_extension": ".py",
   "mimetype": "text/x-python",
   "name": "python",
   "nbconvert_exporter": "python",
   "pygments_lexer": "ipython3",
   "version": "3.12.3"
  }
 },
 "nbformat": 4,
 "nbformat_minor": 2
}
