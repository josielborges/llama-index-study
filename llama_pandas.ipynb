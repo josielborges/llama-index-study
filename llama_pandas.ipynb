{
 "cells": [
  {
   "cell_type": "code",
   "execution_count": 1,
   "metadata": {},
   "outputs": [],
   "source": [
    "import pandas as pd"
   ]
  },
  {
   "cell_type": "code",
   "execution_count": 2,
   "metadata": {},
   "outputs": [],
   "source": [
    "df = pd.read_csv('data/vendas.csv')"
   ]
  },
  {
   "cell_type": "code",
   "execution_count": 3,
   "metadata": {},
   "outputs": [
    {
     "data": {
      "text/html": [
       "<div>\n",
       "<style scoped>\n",
       "    .dataframe tbody tr th:only-of-type {\n",
       "        vertical-align: middle;\n",
       "    }\n",
       "\n",
       "    .dataframe tbody tr th {\n",
       "        vertical-align: top;\n",
       "    }\n",
       "\n",
       "    .dataframe thead th {\n",
       "        text-align: right;\n",
       "    }\n",
       "</style>\n",
       "<table border=\"1\" class=\"dataframe\">\n",
       "  <thead>\n",
       "    <tr style=\"text-align: right;\">\n",
       "      <th></th>\n",
       "      <th>ID_compra</th>\n",
       "      <th>filial</th>\n",
       "      <th>cidade</th>\n",
       "      <th>tipo_cliente</th>\n",
       "      <th>genero</th>\n",
       "      <th>tipo_produto</th>\n",
       "      <th>preco_unitario</th>\n",
       "      <th>quantidade</th>\n",
       "      <th>imposto_5%</th>\n",
       "      <th>total</th>\n",
       "      <th>data</th>\n",
       "      <th>hora</th>\n",
       "      <th>forma_pagamento</th>\n",
       "      <th>avaliacao</th>\n",
       "    </tr>\n",
       "  </thead>\n",
       "  <tbody>\n",
       "    <tr>\n",
       "      <th>0</th>\n",
       "      <td>750-67-8428</td>\n",
       "      <td>A</td>\n",
       "      <td>Santo André</td>\n",
       "      <td>Membro</td>\n",
       "      <td>Feminino</td>\n",
       "      <td>Saúde e Beleza</td>\n",
       "      <td>74.69</td>\n",
       "      <td>7</td>\n",
       "      <td>26.1415</td>\n",
       "      <td>548.9715</td>\n",
       "      <td>2024-01-05</td>\n",
       "      <td>13:08:00</td>\n",
       "      <td>Carteira Digital</td>\n",
       "      <td>9.1</td>\n",
       "    </tr>\n",
       "    <tr>\n",
       "      <th>1</th>\n",
       "      <td>226-31-3081</td>\n",
       "      <td>C</td>\n",
       "      <td>São Caetano</td>\n",
       "      <td>Normal</td>\n",
       "      <td>Feminino</td>\n",
       "      <td>Eletrônicos</td>\n",
       "      <td>15.28</td>\n",
       "      <td>5</td>\n",
       "      <td>3.8200</td>\n",
       "      <td>80.2200</td>\n",
       "      <td>2024-03-08</td>\n",
       "      <td>10:29:00</td>\n",
       "      <td>Dinheiro</td>\n",
       "      <td>9.6</td>\n",
       "    </tr>\n",
       "    <tr>\n",
       "      <th>2</th>\n",
       "      <td>631-41-3108</td>\n",
       "      <td>A</td>\n",
       "      <td>Santo André</td>\n",
       "      <td>Normal</td>\n",
       "      <td>Masculino</td>\n",
       "      <td>Casa</td>\n",
       "      <td>46.33</td>\n",
       "      <td>7</td>\n",
       "      <td>16.2155</td>\n",
       "      <td>340.5255</td>\n",
       "      <td>2024-03-03</td>\n",
       "      <td>13:23:00</td>\n",
       "      <td>Cartão de Crédito</td>\n",
       "      <td>7.4</td>\n",
       "    </tr>\n",
       "    <tr>\n",
       "      <th>3</th>\n",
       "      <td>123-19-1176</td>\n",
       "      <td>A</td>\n",
       "      <td>Santo André</td>\n",
       "      <td>Membro</td>\n",
       "      <td>Masculino</td>\n",
       "      <td>Saúde e Beleza</td>\n",
       "      <td>58.22</td>\n",
       "      <td>8</td>\n",
       "      <td>23.2880</td>\n",
       "      <td>489.0480</td>\n",
       "      <td>2024-01-27</td>\n",
       "      <td>20:33:00</td>\n",
       "      <td>Carteira Digital</td>\n",
       "      <td>8.4</td>\n",
       "    </tr>\n",
       "    <tr>\n",
       "      <th>4</th>\n",
       "      <td>373-73-7910</td>\n",
       "      <td>A</td>\n",
       "      <td>Santo André</td>\n",
       "      <td>Normal</td>\n",
       "      <td>Masculino</td>\n",
       "      <td>Esportes e Viagem</td>\n",
       "      <td>86.31</td>\n",
       "      <td>7</td>\n",
       "      <td>30.2085</td>\n",
       "      <td>634.3785</td>\n",
       "      <td>2024-02-08</td>\n",
       "      <td>10:37:00</td>\n",
       "      <td>Carteira Digital</td>\n",
       "      <td>5.3</td>\n",
       "    </tr>\n",
       "  </tbody>\n",
       "</table>\n",
       "</div>"
      ],
      "text/plain": [
       "     ID_compra filial       cidade tipo_cliente     genero       tipo_produto  \\\n",
       "0  750-67-8428      A  Santo André       Membro   Feminino     Saúde e Beleza   \n",
       "1  226-31-3081      C  São Caetano       Normal   Feminino        Eletrônicos   \n",
       "2  631-41-3108      A  Santo André       Normal  Masculino               Casa   \n",
       "3  123-19-1176      A  Santo André       Membro  Masculino     Saúde e Beleza   \n",
       "4  373-73-7910      A  Santo André       Normal  Masculino  Esportes e Viagem   \n",
       "\n",
       "   preco_unitario  quantidade  imposto_5%     total        data      hora  \\\n",
       "0           74.69           7     26.1415  548.9715  2024-01-05  13:08:00   \n",
       "1           15.28           5      3.8200   80.2200  2024-03-08  10:29:00   \n",
       "2           46.33           7     16.2155  340.5255  2024-03-03  13:23:00   \n",
       "3           58.22           8     23.2880  489.0480  2024-01-27  20:33:00   \n",
       "4           86.31           7     30.2085  634.3785  2024-02-08  10:37:00   \n",
       "\n",
       "     forma_pagamento  avaliacao  \n",
       "0   Carteira Digital        9.1  \n",
       "1           Dinheiro        9.6  \n",
       "2  Cartão de Crédito        7.4  \n",
       "3   Carteira Digital        8.4  \n",
       "4   Carteira Digital        5.3  "
      ]
     },
     "execution_count": 3,
     "metadata": {},
     "output_type": "execute_result"
    }
   ],
   "source": [
    "df.head()"
   ]
  },
  {
   "cell_type": "code",
   "execution_count": 4,
   "metadata": {},
   "outputs": [
    {
     "name": "stdout",
     "output_type": "stream",
     "text": [
      "<class 'pandas.core.frame.DataFrame'>\n",
      "RangeIndex: 1000 entries, 0 to 999\n",
      "Data columns (total 14 columns):\n",
      " #   Column           Non-Null Count  Dtype  \n",
      "---  ------           --------------  -----  \n",
      " 0   ID_compra        1000 non-null   object \n",
      " 1   filial           1000 non-null   object \n",
      " 2   cidade           1000 non-null   object \n",
      " 3   tipo_cliente     1000 non-null   object \n",
      " 4   genero           1000 non-null   object \n",
      " 5   tipo_produto     1000 non-null   object \n",
      " 6   preco_unitario   1000 non-null   float64\n",
      " 7   quantidade       1000 non-null   int64  \n",
      " 8   imposto_5%       1000 non-null   float64\n",
      " 9   total            1000 non-null   float64\n",
      " 10  data             1000 non-null   object \n",
      " 11  hora             1000 non-null   object \n",
      " 12  forma_pagamento  1000 non-null   object \n",
      " 13  avaliacao        1000 non-null   float64\n",
      "dtypes: float64(4), int64(1), object(9)\n",
      "memory usage: 109.5+ KB\n"
     ]
    }
   ],
   "source": [
    "df.info()"
   ]
  },
  {
   "cell_type": "code",
   "execution_count": 5,
   "metadata": {},
   "outputs": [
    {
     "data": {
      "text/plain": [
       "np.int64(0)"
      ]
     },
     "execution_count": 5,
     "metadata": {},
     "output_type": "execute_result"
    }
   ],
   "source": [
    "df.duplicated().sum()"
   ]
  },
  {
   "cell_type": "code",
   "execution_count": 6,
   "metadata": {},
   "outputs": [],
   "source": [
    "import os\n",
    "from dotenv import load_dotenv\n",
    "load_dotenv()\n",
    "\n",
    "GROQ_API_KEY = os.getenv('GROQ_API_KEY')"
   ]
  },
  {
   "cell_type": "code",
   "execution_count": 7,
   "metadata": {},
   "outputs": [
    {
     "name": "stderr",
     "output_type": "stream",
     "text": [
      "/home/josiel/dev/work/python/llama-index-study/.venv/lib/python3.12/site-packages/tqdm/auto.py:21: TqdmWarning: IProgress not found. Please update jupyter and ipywidgets. See https://ipywidgets.readthedocs.io/en/stable/user_install.html\n",
      "  from .autonotebook import tqdm as notebook_tqdm\n"
     ]
    }
   ],
   "source": [
    "from llama_index.core import Settings\n",
    "from llama_index.llms.groq import Groq\n",
    "\n",
    "Settings.llm = Groq(model=\"llama3-70b-8192\", api_key=GROQ_API_KEY)"
   ]
  },
  {
   "cell_type": "code",
   "execution_count": 8,
   "metadata": {},
   "outputs": [],
   "source": [
    "from llama_index.experimental.query_engine import PandasQueryEngine"
   ]
  },
  {
   "cell_type": "code",
   "execution_count": 9,
   "metadata": {},
   "outputs": [],
   "source": [
    "query_engine = PandasQueryEngine(df=df, verbose=True)"
   ]
  },
  {
   "cell_type": "code",
   "execution_count": 10,
   "metadata": {},
   "outputs": [
    {
     "name": "stdout",
     "output_type": "stream",
     "text": [
      "INFO:httpx:HTTP Request: POST https://api.groq.com/openai/v1/chat/completions \"HTTP/1.1 200 OK\"\n",
      "HTTP Request: POST https://api.groq.com/openai/v1/chat/completions \"HTTP/1.1 200 OK\"\n",
      "> Pandas Instructions:\n",
      "```\n",
      "df.groupby('filial')['forma_pagamento'].value_counts().groupby('filial').idxmax()\n",
      "```\n",
      "> Pandas Output: filial\n",
      "A    (A, Carteira Digital)\n",
      "B    (B, Carteira Digital)\n",
      "C            (C, Dinheiro)\n",
      "Name: count, dtype: object\n"
     ]
    }
   ],
   "source": [
    "response = query_engine.query(\"Qual é a forma de pagamento mais utilizada pelos clientes de cada filial?\")"
   ]
  },
  {
   "cell_type": "code",
   "execution_count": 11,
   "metadata": {},
   "outputs": [
    {
     "name": "stdout",
     "output_type": "stream",
     "text": [
      "INFO:httpx:HTTP Request: POST https://api.groq.com/openai/v1/chat/completions \"HTTP/1.1 200 OK\"\n",
      "HTTP Request: POST https://api.groq.com/openai/v1/chat/completions \"HTTP/1.1 200 OK\"\n",
      "> Pandas Instructions:\n",
      "```\n",
      "df.groupby(['filial', 'tipo_produto'])['quantidade'].sum().groupby('filial').idxmax()\n",
      "```\n",
      "> Pandas Output: filial\n",
      "A                   (A, Casa)\n",
      "B      (B, Esportes e Viagem)\n",
      "C    (C, Alimentos e Bebidas)\n",
      "Name: quantidade, dtype: object\n"
     ]
    }
   ],
   "source": [
    "response = query_engine.query(\"Qual é o tipo de produto com maior quantidade por filial? Mostre o a filial e o tipo de produto\")"
   ]
  },
  {
   "cell_type": "code",
   "execution_count": 12,
   "metadata": {},
   "outputs": [
    {
     "name": "stdout",
     "output_type": "stream",
     "text": [
      "INFO:httpx:HTTP Request: POST https://api.groq.com/openai/v1/chat/completions \"HTTP/1.1 200 OK\"\n",
      "HTTP Request: POST https://api.groq.com/openai/v1/chat/completions \"HTTP/1.1 200 OK\"\n",
      "> Pandas Instructions:\n",
      "```\n",
      "df.groupby('filial')['total'].sum().idxmax()\n",
      "```\n",
      "> Pandas Output: C\n"
     ]
    }
   ],
   "source": [
    "response = query_engine.query(\"Qual a filial com maior faturamento?\")"
   ]
  },
  {
   "cell_type": "code",
   "execution_count": 13,
   "metadata": {},
   "outputs": [
    {
     "data": {
      "text/plain": [
       "'C'"
      ]
     },
     "execution_count": 13,
     "metadata": {},
     "output_type": "execute_result"
    }
   ],
   "source": [
    "df.groupby('filial')['total'].sum().idxmax()"
   ]
  },
  {
   "cell_type": "code",
   "execution_count": 14,
   "metadata": {},
   "outputs": [],
   "source": [
    "query_engine = PandasQueryEngine(df=df, verbose=True, synthesize_response=True)"
   ]
  },
  {
   "cell_type": "code",
   "execution_count": 15,
   "metadata": {},
   "outputs": [
    {
     "name": "stdout",
     "output_type": "stream",
     "text": [
      "INFO:httpx:HTTP Request: POST https://api.groq.com/openai/v1/chat/completions \"HTTP/1.1 200 OK\"\n",
      "HTTP Request: POST https://api.groq.com/openai/v1/chat/completions \"HTTP/1.1 200 OK\"\n",
      "> Pandas Instructions:\n",
      "```\n",
      "df.groupby('filial')['avaliacao'].mean()\n",
      "```\n",
      "> Pandas Output: filial\n",
      "A    7.027059\n",
      "B    6.818072\n",
      "C    7.072866\n",
      "Name: avaliacao, dtype: float64\n",
      "INFO:httpx:HTTP Request: POST https://api.groq.com/openai/v1/chat/completions \"HTTP/1.1 200 OK\"\n",
      "HTTP Request: POST https://api.groq.com/openai/v1/chat/completions \"HTTP/1.1 200 OK\"\n",
      "A avaliação média de cada filial é a seguinte: a filial A tem uma avaliação média de 7.03, a filial B tem uma avaliação média de 6.82 e a filial C tem uma avaliação média de 7.07.\n"
     ]
    }
   ],
   "source": [
    "response = query_engine.query(\"Qual é a avaliação média de cada filial?\")\n",
    "print(response)"
   ]
  },
  {
   "cell_type": "code",
   "execution_count": 16,
   "metadata": {},
   "outputs": [],
   "source": [
    "import textwrap\n",
    "\n",
    "def format_text(response):\n",
    "    text = response.response\n",
    "    formatted_text = textwrap.fill(text, width=100)\n",
    "    print (formatted_text)"
   ]
  },
  {
   "cell_type": "code",
   "execution_count": 17,
   "metadata": {},
   "outputs": [
    {
     "name": "stdout",
     "output_type": "stream",
     "text": [
      "A avaliação média de cada filial é a seguinte: a filial A tem uma avaliação média de 7.03, a filial\n",
      "B tem uma avaliação média de 6.82 e a filial C tem uma avaliação média de 7.07.\n"
     ]
    }
   ],
   "source": [
    "format_text(response)"
   ]
  },
  {
   "cell_type": "code",
   "execution_count": 18,
   "metadata": {},
   "outputs": [
    {
     "name": "stdout",
     "output_type": "stream",
     "text": [
      "INFO:httpx:HTTP Request: POST https://api.groq.com/openai/v1/chat/completions \"HTTP/1.1 200 OK\"\n",
      "HTTP Request: POST https://api.groq.com/openai/v1/chat/completions \"HTTP/1.1 200 OK\"\n",
      "> Pandas Instructions:\n",
      "```\n",
      "df['avaliacao'].value_counts()\n",
      "```\n",
      "> Pandas Output: avaliacao\n",
      "6.0     26\n",
      "6.6     24\n",
      "9.5     22\n",
      "4.2     22\n",
      "5.1     21\n",
      "        ..\n",
      "5.3     11\n",
      "8.3     11\n",
      "4.0     11\n",
      "4.6      8\n",
      "10.0     5\n",
      "Name: count, Length: 61, dtype: int64\n",
      "INFO:httpx:HTTP Request: POST https://api.groq.com/openai/v1/chat/completions \"HTTP/1.1 200 OK\"\n",
      "HTTP Request: POST https://api.groq.com/openai/v1/chat/completions \"HTTP/1.1 200 OK\"\n"
     ]
    }
   ],
   "source": [
    "response = query_engine.query(\"Você pode me mostrar a distribuição das avaliações\")"
   ]
  },
  {
   "cell_type": "code",
   "execution_count": 19,
   "metadata": {},
   "outputs": [
    {
     "name": "stdout",
     "output_type": "stream",
     "text": [
      "Here is a synthesized response based on the query results:  \"A distribuição das avaliações é a\n",
      "seguinte: a avaliação mais comum é 6.0, que aparece 26 vezes, seguida de 6.6, que aparece 24 vezes.\n",
      "Em seguida, temos 9.5 e 4.2, que aparecem 22 vezes cada. As avaliações menores, como 4.0 e 4.6,\n",
      "aparecem menos frequentemente, com 11 e 8 ocorrências, respectivamente. A avaliação mais alta, 10.0,\n",
      "aparece apenas 5 vezes. Existem 61 avaliações únicas no conjunto de dados.\"\n"
     ]
    }
   ],
   "source": [
    "format_text(response)"
   ]
  },
  {
   "cell_type": "code",
   "execution_count": 20,
   "metadata": {},
   "outputs": [
    {
     "name": "stdout",
     "output_type": "stream",
     "text": [
      "INFO:httpx:HTTP Request: POST https://api.groq.com/openai/v1/chat/completions \"HTTP/1.1 200 OK\"\n",
      "HTTP Request: POST https://api.groq.com/openai/v1/chat/completions \"HTTP/1.1 200 OK\"\n",
      "> Pandas Instructions:\n",
      "```\n",
      "df.avaliacao.plot(kind='hist')\n",
      "```\n",
      "> Pandas Output: Axes(0.125,0.11;0.775x0.77)\n",
      "INFO:httpx:HTTP Request: POST https://api.groq.com/openai/v1/chat/completions \"HTTP/1.1 200 OK\"\n",
      "HTTP Request: POST https://api.groq.com/openai/v1/chat/completions \"HTTP/1.1 200 OK\"\n"
     ]
    },
    {
     "data": {
      "image/png": "[encoded data removed]",
      "text/plain": [
       "<Figure size 640x480 with 1 Axes>"
      ]
     },
     "metadata": {},
     "output_type": "display_data"
    }
   ],
   "source": [
    "response = query_engine.query(\"Você pode me plotar a distribuição das avaliações?\")"
   ]
  },
  {
   "cell_type": "code",
   "execution_count": 21,
   "metadata": {},
   "outputs": [
    {
     "name": "stdout",
     "output_type": "stream",
     "text": [
      "Here is a synthesized response:  \"Sim, é possível plotar a distribuição das avaliações. Aqui está o\n",
      "histograma das avaliações:  [insert histogram plot here]  O gráfico acima mostra a distribuição das\n",
      "avaliações, com a frequência de cada avaliação no eixo y e os valores das avaliações no eixo x. Isso\n",
      "pode ajudar a entender a distribuição das avaliações e identificar padrões ou tendências.\"\n"
     ]
    }
   ],
   "source": [
    "format_text(response)"
   ]
  },
  {
   "cell_type": "code",
   "execution_count": 22,
   "metadata": {},
   "outputs": [
    {
     "name": "stdout",
     "output_type": "stream",
     "text": [
      "INFO:httpx:HTTP Request: POST https://api.groq.com/openai/v1/chat/completions \"HTTP/1.1 200 OK\"\n",
      "HTTP Request: POST https://api.groq.com/openai/v1/chat/completions \"HTTP/1.1 200 OK\"\n",
      "> Pandas Instructions:\n",
      "```\n",
      "df.groupby('tipo_produto')['total'].sum().sort_values().plot(kind='barh')\n",
      "```\n",
      "> Pandas Output: Axes(0.125,0.11;0.775x0.77)\n",
      "INFO:httpx:HTTP Request: POST https://api.groq.com/openai/v1/chat/completions \"HTTP/1.1 429 Too Many Requests\"\n",
      "HTTP Request: POST https://api.groq.com/openai/v1/chat/completions \"HTTP/1.1 429 Too Many Requests\"\n",
      "INFO:openai._base_client:Retrying request to /chat/completions in 2.000000 seconds\n",
      "Retrying request to /chat/completions in 2.000000 seconds\n",
      "INFO:httpx:HTTP Request: POST https://api.groq.com/openai/v1/chat/completions \"HTTP/1.1 200 OK\"\n",
      "HTTP Request: POST https://api.groq.com/openai/v1/chat/completions \"HTTP/1.1 200 OK\"\n"
     ]
    },
    {
     "data": {
      "image/png": "[encoded data removed]",
      "text/plain": [
       "<Figure size 640x480 with 1 Axes>"
      ]
     },
     "metadata": {},
     "output_type": "display_data"
    }
   ],
   "source": [
    "response = query_engine.query(\"Você pode plotar o valor total por tipo de produto, ordenando do menor para o maior e mantendo as barras na horizontal?\")"
   ]
  },
  {
   "cell_type": "code",
   "execution_count": 23,
   "metadata": {},
   "outputs": [
    {
     "name": "stdout",
     "output_type": "stream",
     "text": [
      "Sim, é possível plotar o valor total por tipo de produto, ordenando do menor para o maior e mantendo\n",
      "as barras na horizontal. Para fazer isso, você pode utilizar a biblioteca Pandas e o método\n",
      "`groupby` para agrupar os dados por tipo de produto, calcular a soma do valor total para cada grupo\n",
      "e, em seguida, ordenar os resultados em ordem crescente. Em seguida, você pode utilizar o método\n",
      "`plot` com o parâmetro `kind='barh'` para criar um gráfico de barras horizontal.  O código para\n",
      "fazer isso seria: ``` df.groupby('tipo_produto')['total'].sum().sort_values().plot(kind='barh') ```\n",
      "Isso irá gerar um gráfico de barras horizontal que mostra o valor total por tipo de produto,\n",
      "ordenado do menor para o maior.\n"
     ]
    }
   ],
   "source": [
    "format_text(response)"
   ]
  },
  {
   "cell_type": "code",
   "execution_count": 24,
   "metadata": {},
   "outputs": [
    {
     "name": "stdout",
     "output_type": "stream",
     "text": [
      "INFO:httpx:HTTP Request: POST https://api.groq.com/openai/v1/chat/completions \"HTTP/1.1 429 Too Many Requests\"\n",
      "HTTP Request: POST https://api.groq.com/openai/v1/chat/completions \"HTTP/1.1 429 Too Many Requests\"\n",
      "INFO:openai._base_client:Retrying request to /chat/completions in 5.000000 seconds\n",
      "Retrying request to /chat/completions in 5.000000 seconds\n",
      "INFO:httpx:HTTP Request: POST https://api.groq.com/openai/v1/chat/completions \"HTTP/1.1 200 OK\"\n",
      "HTTP Request: POST https://api.groq.com/openai/v1/chat/completions \"HTTP/1.1 200 OK\"\n",
      "> Pandas Instructions:\n",
      "```\n",
      "df.groupby('tipo_produto')['total'].sum().sort_values().plot(kind='barh')\n",
      "```\n",
      "> Pandas Output: Axes(0.125,0.11;0.775x0.77)\n",
      "INFO:httpx:HTTP Request: POST https://api.groq.com/openai/v1/chat/completions \"HTTP/1.1 429 Too Many Requests\"\n",
      "HTTP Request: POST https://api.groq.com/openai/v1/chat/completions \"HTTP/1.1 429 Too Many Requests\"\n",
      "INFO:openai._base_client:Retrying request to /chat/completions in 1.000000 seconds\n",
      "Retrying request to /chat/completions in 1.000000 seconds\n",
      "INFO:httpx:HTTP Request: POST https://api.groq.com/openai/v1/chat/completions \"HTTP/1.1 200 OK\"\n",
      "HTTP Request: POST https://api.groq.com/openai/v1/chat/completions \"HTTP/1.1 200 OK\"\n"
     ]
    },
    {
     "data": {
      "image/png": "[encoded data removed]",
      "text/plain": [
       "<Figure size 640x480 with 1 Axes>"
      ]
     },
     "metadata": {},
     "output_type": "display_data"
    }
   ],
   "source": [
    "response = query_engine.query(\"Plote o valor total por tipo de produto, ordenando do menor para o maior e mantendo as barras na horizontal\")"
   ]
  },
  {
   "cell_type": "code",
   "execution_count": 25,
   "metadata": {},
   "outputs": [
    {
     "name": "stdout",
     "output_type": "stream",
     "text": [
      "Here is a synthesized response based on the query results:  \"The plot shows the total value by type\n",
      "of product, ordered from smallest to largest, with horizontal bars. The x-axis represents the total\n",
      "value, and the y-axis lists the different types of products. The horizontal bars are arranged in\n",
      "ascending order of their total values, allowing for easy comparison between products.\"\n"
     ]
    }
   ],
   "source": [
    "format_text(response)"
   ]
  },
  {
   "cell_type": "code",
   "execution_count": 26,
   "metadata": {},
   "outputs": [
    {
     "name": "stdout",
     "output_type": "stream",
     "text": [
      "INFO:httpx:HTTP Request: POST https://api.groq.com/openai/v1/chat/completions \"HTTP/1.1 429 Too Many Requests\"\n",
      "HTTP Request: POST https://api.groq.com/openai/v1/chat/completions \"HTTP/1.1 429 Too Many Requests\"\n",
      "INFO:openai._base_client:Retrying request to /chat/completions in 4.000000 seconds\n",
      "Retrying request to /chat/completions in 4.000000 seconds\n",
      "INFO:httpx:HTTP Request: POST https://api.groq.com/openai/v1/chat/completions \"HTTP/1.1 200 OK\"\n",
      "HTTP Request: POST https://api.groq.com/openai/v1/chat/completions \"HTTP/1.1 200 OK\"\n",
      "> Pandas Instructions:\n",
      "```\n",
      "df.groupby('filial')['forma_pagamento'].value_counts().groupby('filial').idxmax()\n",
      "```\n",
      "> Pandas Output: filial\n",
      "A    (A, Carteira Digital)\n",
      "B    (B, Carteira Digital)\n",
      "C            (C, Dinheiro)\n",
      "Name: count, dtype: object\n",
      "INFO:httpx:HTTP Request: POST https://api.groq.com/openai/v1/chat/completions \"HTTP/1.1 429 Too Many Requests\"\n",
      "HTTP Request: POST https://api.groq.com/openai/v1/chat/completions \"HTTP/1.1 429 Too Many Requests\"\n",
      "INFO:openai._base_client:Retrying request to /chat/completions in 2.000000 seconds\n",
      "Retrying request to /chat/completions in 2.000000 seconds\n",
      "INFO:httpx:HTTP Request: POST https://api.groq.com/openai/v1/chat/completions \"HTTP/1.1 200 OK\"\n",
      "HTTP Request: POST https://api.groq.com/openai/v1/chat/completions \"HTTP/1.1 200 OK\"\n",
      "O método de pagamento mais usado em cada filial é:  * Na filial A, o método mais usado é a Carteira\n",
      "Digital. * Na filial B, o método mais usado é a Carteira Digital. * Na filial C, o método mais usado\n",
      "é o Dinheiro.\n"
     ]
    }
   ],
   "source": [
    "response = query_engine.query(\"Qual é o método de pagamento mais usado en cada filial? Responda em português do Brasil\")\n",
    "format_text(response)"
   ]
  },
  {
   "cell_type": "code",
   "execution_count": 27,
   "metadata": {},
   "outputs": [
    {
     "name": "stdout",
     "output_type": "stream",
     "text": [
      "INFO:httpx:HTTP Request: POST https://api.groq.com/openai/v1/chat/completions \"HTTP/1.1 429 Too Many Requests\"\n",
      "HTTP Request: POST https://api.groq.com/openai/v1/chat/completions \"HTTP/1.1 429 Too Many Requests\"\n",
      "INFO:openai._base_client:Retrying request to /chat/completions in 4.000000 seconds\n",
      "Retrying request to /chat/completions in 4.000000 seconds\n",
      "INFO:httpx:HTTP Request: POST https://api.groq.com/openai/v1/chat/completions \"HTTP/1.1 200 OK\"\n",
      "HTTP Request: POST https://api.groq.com/openai/v1/chat/completions \"HTTP/1.1 200 OK\"\n",
      "> Pandas Instructions:\n",
      "```\n",
      "df.boxplot(column='avaliacao', by='filial')\n",
      "```\n",
      "> Pandas Output: Axes(0.1,0.15;0.8x0.75)\n",
      "INFO:httpx:HTTP Request: POST https://api.groq.com/openai/v1/chat/completions \"HTTP/1.1 429 Too Many Requests\"\n",
      "HTTP Request: POST https://api.groq.com/openai/v1/chat/completions \"HTTP/1.1 429 Too Many Requests\"\n",
      "INFO:openai._base_client:Retrying request to /chat/completions in 1.000000 seconds\n",
      "Retrying request to /chat/completions in 1.000000 seconds\n",
      "INFO:httpx:HTTP Request: POST https://api.groq.com/openai/v1/chat/completions \"HTTP/1.1 200 OK\"\n",
      "HTTP Request: POST https://api.groq.com/openai/v1/chat/completions \"HTTP/1.1 200 OK\"\n",
      "\"Sim, é possível plotar o boxplot das avaliações por filial. Para fazer isso, você pode utilizar a\n",
      "função `boxplot` do pandas, especificando a coluna 'avaliacao' como a variável a ser plotada e a\n",
      "coluna 'filial' como a variável de agrupamento. O código para isso seria\n",
      "`df.boxplot(column='avaliacao', by='filial')`. Isso irá gerar um boxplot que mostra a distribuição\n",
      "das avaliações para cada filial.\"\n"
     ]
    },
    {
     "data": {
      "image/png": "[encoded data removed]",
      "text/plain": [
       "<Figure size 640x480 with 1 Axes>"
      ]
     },
     "metadata": {},
     "output_type": "display_data"
    }
   ],
   "source": [
    "response = query_engine.query('Você pode plotar o boxplot das avaliações por filial?')\n",
    "format_text(response)"
   ]
  },
  {
   "cell_type": "markdown",
   "metadata": {},
   "source": [
    "## Pipeline\n",
    "\n",
    "See more at https://docs.llamaindex.ai/en/stable/examples/pipeline/query_pipeline_pandas/"
   ]
  },
  {
   "cell_type": "code",
   "execution_count": 28,
   "metadata": {},
   "outputs": [],
   "source": [
    "from llama_index.core import PromptTemplate\n",
    "from llama_index.experimental.query_engine.pandas import PandasInstructionParser"
   ]
  },
  {
   "cell_type": "code",
   "execution_count": 29,
   "metadata": {},
   "outputs": [],
   "source": [
    "def columns_description(df):\n",
    "    return \"\\n\".join([f\"'{col}': {str(df[col].dtype)}\" for col in df.columns])\n",
    "\n",
    "\n",
    "# Instructions to guide the model in converting a natural language query into executable Python code using the Pandas library, in Portuguese, to retrieve responses in this language.\n",
    "instruction_str = (\n",
    "    \"1. Converta a consulta para código Python executável usando Pandas.\\n\"\n",
    "    \"2. A linha final do código deve ser uma expressão Python que possa ser chamada com a função `eval()`.\\n\"\n",
    "    \"3. O código deve representar uma solução para a consulta.\\n\"\n",
    "    \"4. IMPRIMA APENAS A EXPRESSÃO.\\n\"\n",
    "    \"5. Não coloque a expressão entre aspas.\\n\")\n",
    "\n",
    "# Prompt that will be sent to the model so that it generates the desired Pandas code.\n",
    "pandas_prompt_str = (\n",
    "    \"Você está trabalhando com um dataframe do pandas em Python chamado `df`.\\n\"\n",
    "    \"{colunas_detalhes}\\n\\n\"\n",
    "    \"Este é o resultado de `print(df.head())`:\\n\"\n",
    "    \"{df_str}\\n\\n\"\n",
    "    \"Siga estas instruções:\\n\"\n",
    "    \"{instruction_str}\\n\"\n",
    "    \"Consulta: {query_str}\\n\\n\"\n",
    "    \"Expressão:\"\n",
    ")\n",
    "\n",
    "# Prompt to guide the model in synthesizing a response based on the results obtained from the Pandas query.\n",
    "response_synthesis_prompt_str = (\n",
    "   \"Dada uma pergunta de entrada, atue como analista de dados e elabore uma resposta a partir dos resultados da consulta.\\n\"\n",
    "   \"Responda de forma natural, sem introduções como 'A resposta é:' ou algo semelhante.\\n\"\n",
    "   \"Consulta: {query_str}\\n\\n\"\n",
    "   \"Instruções do Pandas (opcional):\\n{pandas_instructions}\\n\\n\"\n",
    "   \"Saída do Pandas: {pandas_output}\\n\\n\"\n",
    "   \"Resposta:\"\n",
    "   \"Ao final, exibir o código usado para gerar a resposta, no formato: O código utilizado foi {pandas_instructions}\"\n",
    ")\n",
    "\n",
    "# Module to obtain Pandas instructions.\n",
    "pandas_prompt = PromptTemplate(pandas_prompt_str).partial_format(\n",
    "    instruction_str=instruction_str, colunas_detalhes=columns_description(df), df_str=df.head(5)\n",
    ")\n",
    "# Module to execute the Pandas instructions.\n",
    "pandas_output_parser = PandasInstructionParser(df)\n",
    "\n",
    "# Module to synthesize the response.\n",
    "response_synthesis_prompt = PromptTemplate(response_synthesis_prompt_str)\n",
    "\n",
    "# Model\n",
    "llm = Groq(model='llama3-70b-8192', api_key=GROQ_API_KEY)"
   ]
  },
  {
   "cell_type": "code",
   "execution_count": 30,
   "metadata": {},
   "outputs": [],
   "source": [
    "from llama_index.core.query_pipeline import QueryPipeline, Link, InputComponent"
   ]
  },
  {
   "cell_type": "code",
   "execution_count": 31,
   "metadata": {},
   "outputs": [],
   "source": [
    "qp = QueryPipeline(\n",
    "    modules={\n",
    "        \"input\": InputComponent(),\n",
    "        \"pandas_prompt\": pandas_prompt,\n",
    "        \"llm1\": llm,\n",
    "        \"pandas_output_parser\": pandas_output_parser,\n",
    "        \"response_synthesis_prompt\": response_synthesis_prompt,\n",
    "        \"llm2\": llm\n",
    "    },\n",
    "    verbose=True\n",
    ")\n",
    "\n",
    "qp.add_chain([\"input\", \"pandas_prompt\", \"llm1\",  \"pandas_output_parser\"])\n",
    "\n",
    "qp.add_links(\n",
    "    [\n",
    "        Link(\"input\", \"response_synthesis_prompt\", dest_key=\"query_str\"),\n",
    "        Link(\"llm1\", \"response_synthesis_prompt\", dest_key=\"pandas_instructions\"),\n",
    "        Link(\"pandas_output_parser\", \"response_synthesis_prompt\", dest_key=\"pandas_output\")\n",
    "    ]\n",
    ")\n",
    "\n",
    "qp.add_link(\"response_synthesis_prompt\", \"llm2\")"
   ]
  },
  {
   "cell_type": "code",
   "execution_count": 32,
   "metadata": {},
   "outputs": [
    {
     "name": "stdout",
     "output_type": "stream",
     "text": [
      "\u001b[1;3;38;2;155;135;227m> Running module input with input: \n",
      "query_str: Qual é a média gasta por cada tipo de cliente?\n",
      "\n",
      "\u001b[0m\u001b[1;3;38;2;155;135;227m> Running module pandas_prompt with input: \n",
      "query_str: Qual é a média gasta por cada tipo de cliente?\n",
      "\n",
      "\u001b[0m\u001b[1;3;38;2;155;135;227m> Running module llm1 with input: \n",
      "messages: Você está trabalhando com um dataframe do pandas em Python chamado `df`.\n",
      "'ID_compra': object\n",
      "'filial': object\n",
      "'cidade': object\n",
      "'tipo_cliente': object\n",
      "'genero': object\n",
      "'tipo_produto': object\n",
      "'preco_uni...\n",
      "\n",
      "\u001b[0mINFO:httpx:HTTP Request: POST https://api.groq.com/openai/v1/chat/completions \"HTTP/1.1 429 Too Many Requests\"\n",
      "HTTP Request: POST https://api.groq.com/openai/v1/chat/completions \"HTTP/1.1 429 Too Many Requests\"\n",
      "INFO:openai._base_client:Retrying request to /chat/completions in 5.000000 seconds\n",
      "Retrying request to /chat/completions in 5.000000 seconds\n",
      "INFO:httpx:HTTP Request: POST https://api.groq.com/openai/v1/chat/completions \"HTTP/1.1 200 OK\"\n",
      "HTTP Request: POST https://api.groq.com/openai/v1/chat/completions \"HTTP/1.1 200 OK\"\n",
      "\u001b[1;3;38;2;155;135;227m> Running module pandas_output_parser with input: \n",
      "input: assistant: df.groupby('tipo_cliente')['total'].mean()\n",
      "\n",
      "\u001b[0m\u001b[1;3;38;2;155;135;227m> Running module response_synthesis_prompt with input: \n",
      "query_str: Qual é a média gasta por cada tipo de cliente?\n",
      "pandas_instructions: assistant: df.groupby('tipo_cliente')['total'].mean()\n",
      "pandas_output: tipo_cliente\n",
      "Membro    327.791305\n",
      "Normal    318.122856\n",
      "Name: total, dtype: float64\n",
      "\n",
      "\u001b[0m\u001b[1;3;38;2;155;135;227m> Running module llm2 with input: \n",
      "messages: Dada uma pergunta de entrada, atue como analista de dados e elabore uma resposta a partir dos resultados da consulta.\n",
      "Responda de forma natural, sem introduções como 'A resposta é:' ou algo semelhante...\n",
      "\n",
      "\u001b[0mINFO:httpx:HTTP Request: POST https://api.groq.com/openai/v1/chat/completions \"HTTP/1.1 429 Too Many Requests\"\n",
      "HTTP Request: POST https://api.groq.com/openai/v1/chat/completions \"HTTP/1.1 429 Too Many Requests\"\n",
      "INFO:openai._base_client:Retrying request to /chat/completions in 2.000000 seconds\n",
      "Retrying request to /chat/completions in 2.000000 seconds\n",
      "INFO:httpx:HTTP Request: POST https://api.groq.com/openai/v1/chat/completions \"HTTP/1.1 200 OK\"\n",
      "HTTP Request: POST https://api.groq.com/openai/v1/chat/completions \"HTTP/1.1 200 OK\"\n"
     ]
    }
   ],
   "source": [
    "response = qp.run(query_str=\"Qual é a média gasta por cada tipo de cliente?\")"
   ]
  },
  {
   "cell_type": "code",
   "execution_count": 33,
   "metadata": {},
   "outputs": [
    {
     "name": "stdout",
     "output_type": "stream",
     "text": [
      "A média gasta por cada tipo de cliente é de R$ 327,79 para os clientes Membro e R$ 318,12 para os\n",
      "clientes Normal.  O código utilizado foi df.groupby('tipo_cliente')['total'].mean()\n"
     ]
    }
   ],
   "source": [
    "text = response.message.content\n",
    "formatted_text = textwrap.fill(text, width=100)\n",
    "print(formatted_text)"
   ]
  },
  {
   "cell_type": "code",
   "execution_count": 34,
   "metadata": {},
   "outputs": [
    {
     "name": "stdout",
     "output_type": "stream",
     "text": [
      "\u001b[1;3;38;2;155;135;227m> Running module input with input: \n",
      "query_str: Por que clientes do tipo membro tem maior média de gasto?\n",
      "\n",
      "\u001b[0m\u001b[1;3;38;2;155;135;227m> Running module pandas_prompt with input: \n",
      "query_str: Por que clientes do tipo membro tem maior média de gasto?\n",
      "\n",
      "\u001b[0m\u001b[1;3;38;2;155;135;227m> Running module llm1 with input: \n",
      "messages: Você está trabalhando com um dataframe do pandas em Python chamado `df`.\n",
      "'ID_compra': object\n",
      "'filial': object\n",
      "'cidade': object\n",
      "'tipo_cliente': object\n",
      "'genero': object\n",
      "'tipo_produto': object\n",
      "'preco_uni...\n",
      "\n",
      "\u001b[0mINFO:httpx:HTTP Request: POST https://api.groq.com/openai/v1/chat/completions \"HTTP/1.1 429 Too Many Requests\"\n",
      "HTTP Request: POST https://api.groq.com/openai/v1/chat/completions \"HTTP/1.1 429 Too Many Requests\"\n",
      "INFO:openai._base_client:Retrying request to /chat/completions in 5.000000 seconds\n",
      "Retrying request to /chat/completions in 5.000000 seconds\n",
      "INFO:httpx:HTTP Request: POST https://api.groq.com/openai/v1/chat/completions \"HTTP/1.1 200 OK\"\n",
      "HTTP Request: POST https://api.groq.com/openai/v1/chat/completions \"HTTP/1.1 200 OK\"\n",
      "\u001b[1;3;38;2;155;135;227m> Running module pandas_output_parser with input: \n",
      "input: assistant: df.loc[df['tipo_cliente'] == 'Membro', 'total'].mean()\n",
      "\n",
      "\u001b[0m\u001b[1;3;38;2;155;135;227m> Running module response_synthesis_prompt with input: \n",
      "query_str: Por que clientes do tipo membro tem maior média de gasto?\n",
      "pandas_instructions: assistant: df.loc[df['tipo_cliente'] == 'Membro', 'total'].mean()\n",
      "pandas_output: 327.7913053892216\n",
      "\n",
      "\u001b[0m\u001b[1;3;38;2;155;135;227m> Running module llm2 with input: \n",
      "messages: Dada uma pergunta de entrada, atue como analista de dados e elabore uma resposta a partir dos resultados da consulta.\n",
      "Responda de forma natural, sem introduções como 'A resposta é:' ou algo semelhante...\n",
      "\n",
      "\u001b[0mINFO:httpx:HTTP Request: POST https://api.groq.com/openai/v1/chat/completions \"HTTP/1.1 429 Too Many Requests\"\n",
      "HTTP Request: POST https://api.groq.com/openai/v1/chat/completions \"HTTP/1.1 429 Too Many Requests\"\n",
      "INFO:openai._base_client:Retrying request to /chat/completions in 3.000000 seconds\n",
      "Retrying request to /chat/completions in 3.000000 seconds\n",
      "INFO:httpx:HTTP Request: POST https://api.groq.com/openai/v1/chat/completions \"HTTP/1.1 200 OK\"\n",
      "HTTP Request: POST https://api.groq.com/openai/v1/chat/completions \"HTTP/1.1 200 OK\"\n"
     ]
    }
   ],
   "source": [
    "response = qp.run(query_str=\"Por que clientes do tipo membro tem maior média de gasto?\")"
   ]
  },
  {
   "cell_type": "code",
   "execution_count": 35,
   "metadata": {},
   "outputs": [
    {
     "name": "stdout",
     "output_type": "stream",
     "text": [
      "Os clientes do tipo membro têm uma média de gasto de R$ 327,79. Isso sugere que esses clientes\n",
      "tendem a realizar compras mais frequentes ou de maior valor em comparação aos clientes não membros.\n",
      "Possivelmente, os benefícios e descontos oferecidos aos membros os incentivam a realizar compras\n",
      "mais regulares e de maior valor.  O código utilizado foi df.loc[df['tipo_cliente'] == 'Membro',\n",
      "'total'].mean()\n"
     ]
    }
   ],
   "source": [
    "text = response.message.content\n",
    "formatted_text = textwrap.fill(text, width=100)\n",
    "print(formatted_text)"
   ]
  },
  {
   "cell_type": "markdown",
   "metadata": {},
   "source": [
    "# Interface\n",
    "\n",
    "With Gradio"
   ]
  },
  {
   "cell_type": "code",
   "execution_count": 36,
   "metadata": {},
   "outputs": [],
   "source": [
    "def create_query_pipeline(df):\n",
    "    # Instructions to guide the model in converting a natural language query into executable Python code using the Pandas library, in Portuguese, to retrieve responses in this language.\n",
    "    instruction_str = (\n",
    "        \"1. Converta a consulta para código Python executável usando Pandas.\\n\"\n",
    "        \"2. A linha final do código deve ser uma expressão Python que possa ser chamada com a função `eval()`.\\n\"\n",
    "        \"3. O código deve representar uma solução para a consulta.\\n\"\n",
    "        \"4. IMPRIMA APENAS A EXPRESSÃO.\\n\"\n",
    "        \"5. Não coloque a expressão entre aspas.\\n\")\n",
    "\n",
    "    # Prompt that will be sent to the model so that it generates the desired Pandas code.\n",
    "    pandas_prompt_str = (\n",
    "        \"Você está trabalhando com um dataframe do pandas em Python chamado `df`.\\n\"\n",
    "        \"{colunas_detalhes}\\n\\n\"\n",
    "        \"Este é o resultado de `print(df.head())`:\\n\"\n",
    "        \"{df_str}\\n\\n\"\n",
    "        \"Siga estas instruções:\\n\"\n",
    "        \"{instruction_str}\\n\"\n",
    "        \"Consulta: {query_str}\\n\\n\"\n",
    "        \"Expressão:\"\n",
    "    )\n",
    "\n",
    "    # Prompt to guide the model in synthesizing a response based on the results obtained from the Pandas query.\n",
    "    response_synthesis_prompt_str = (\n",
    "    \"Dada uma pergunta de entrada, atue como analista de dados e elabore uma resposta a partir dos resultados da consulta.\\n\"\n",
    "    \"Responda de forma natural, sem introduções como 'A resposta é:' ou algo semelhante.\\n\"\n",
    "    \"Consulta: {query_str}\\n\\n\"\n",
    "    \"Instruções do Pandas (opcional):\\n{pandas_instructions}\\n\\n\"\n",
    "    \"Saída do Pandas: {pandas_output}\\n\\n\"\n",
    "    \"Resposta:\"\n",
    "    \"Ao final, exibir o código usado para gerar a resposta, no formato: O código utilizado foi {pandas_instructions}\"\n",
    "    )\n",
    "\n",
    "    # Module to obtain Pandas instructions.\n",
    "    pandas_prompt = PromptTemplate(pandas_prompt_str).partial_format(\n",
    "        instruction_str=instruction_str, colunas_detalhes=columns_description(df), df_str=df.head(5)\n",
    "    )\n",
    "    # Module to execute the Pandas instructions.\n",
    "    pandas_output_parser = PandasInstructionParser(df)\n",
    "\n",
    "    # Module to synthesize the response.\n",
    "    response_synthesis_prompt = PromptTemplate(response_synthesis_prompt_str)\n",
    "\n",
    "    # Model\n",
    "    llm = Groq(model='llama3-70b-8192', api_key=GROQ_API_KEY)\n",
    "\n",
    "    qp = QueryPipeline(\n",
    "    modules={\n",
    "        \"input\": InputComponent(),\n",
    "        \"pandas_prompt\": pandas_prompt,\n",
    "        \"llm1\": llm,\n",
    "        \"pandas_output_parser\": pandas_output_parser,\n",
    "        \"response_synthesis_prompt\": response_synthesis_prompt,\n",
    "        \"llm2\": llm\n",
    "    },\n",
    "    verbose=True\n",
    "    )\n",
    "\n",
    "    qp.add_chain([\"input\", \"pandas_prompt\", \"llm1\",  \"pandas_output_parser\"])\n",
    "\n",
    "    qp.add_links(\n",
    "        [\n",
    "            Link(\"input\", \"response_synthesis_prompt\", dest_key=\"query_str\"),\n",
    "            Link(\"llm1\", \"response_synthesis_prompt\", dest_key=\"pandas_instructions\"),\n",
    "            Link(\"pandas_output_parser\", \"response_synthesis_prompt\", dest_key=\"pandas_output\")\n",
    "        ]\n",
    "    )\n",
    "\n",
    "    qp.add_link(\"response_synthesis_prompt\", \"llm2\")\n",
    "\n",
    "    return qp"
   ]
  },
  {
   "cell_type": "code",
   "execution_count": 37,
   "metadata": {},
   "outputs": [
    {
     "name": "stdout",
     "output_type": "stream",
     "text": [
      "* Running on local URL:  http://127.0.0.1:7860\n",
      "INFO:httpx:HTTP Request: GET http://127.0.0.1:7860/gradio_api/startup-events \"HTTP/1.1 200 OK\"\n",
      "HTTP Request: GET http://127.0.0.1:7860/gradio_api/startup-events \"HTTP/1.1 200 OK\"\n",
      "INFO:httpx:HTTP Request: HEAD http://127.0.0.1:7860/ \"HTTP/1.1 200 OK\"\n",
      "HTTP Request: HEAD http://127.0.0.1:7860/ \"HTTP/1.1 200 OK\"\n",
      "\n",
      "To create a public link, set `share=True` in `launch()`.\n"
     ]
    },
    {
     "data": {
      "text/html": [
       "<div><iframe src=\"http://127.0.0.1:7860/\" width=\"100%\" height=\"500\" allow=\"autoplay; camera; microphone; clipboard-read; clipboard-write;\" frameborder=\"0\" allowfullscreen></iframe></div>"
      ],
      "text/plain": [
       "<IPython.core.display.HTML object>"
      ]
     },
     "metadata": {},
     "output_type": "display_data"
    },
    {
     "name": "stdout",
     "output_type": "stream",
     "text": [
      "INFO:httpx:HTTP Request: GET https://api.gradio.app/gradio-messaging/en \"HTTP/1.1 200 OK\"\n",
      "HTTP Request: GET https://api.gradio.app/gradio-messaging/en \"HTTP/1.1 200 OK\"\n",
      "INFO:httpx:HTTP Request: GET https://api.gradio.app/pkg-version \"HTTP/1.1 200 OK\"\n",
      "HTTP Request: GET https://api.gradio.app/pkg-version \"HTTP/1.1 200 OK\"\n",
      "\u001b[1;3;38;2;155;135;227m> Running module input with input: \n",
      "query_str: me de insights do arquivo\n",
      "\n",
      "\u001b[0m\u001b[1;3;38;2;155;135;227m> Running module pandas_prompt with input: \n",
      "query_str: me de insights do arquivo\n",
      "\n",
      "\u001b[0m\u001b[1;3;38;2;155;135;227m> Running module llm1 with input: \n",
      "messages: Você está trabalhando com um dataframe do pandas em Python chamado `df`.\n",
      "'ID_compra': object\n",
      "'filial': object\n",
      "'cidade': object\n",
      "'tipo_cliente': object\n",
      "'genero': object\n",
      "'tipo_produto': object\n",
      "'preco_uni...\n",
      "\n",
      "\u001b[0mINFO:httpx:HTTP Request: POST https://api.groq.com/openai/v1/chat/completions \"HTTP/1.1 200 OK\"\n",
      "HTTP Request: POST https://api.groq.com/openai/v1/chat/completions \"HTTP/1.1 200 OK\"\n",
      "\u001b[1;3;38;2;155;135;227m> Running module pandas_output_parser with input: \n",
      "input: assistant: df.describe()\n",
      "\n",
      "\u001b[0m\u001b[1;3;38;2;155;135;227m> Running module response_synthesis_prompt with input: \n",
      "query_str: me de insights do arquivo\n",
      "pandas_instructions: assistant: df.describe()\n",
      "pandas_output:        preco_unitario   quantidade   imposto_5%        total   avaliacao\n",
      "count     1000.000000  1000.000000  1000.000000  1000.000000  1000.00000\n",
      "mean        55.672130     5.510000    15.379369   322....\n",
      "\n",
      "\u001b[0m\u001b[1;3;38;2;155;135;227m> Running module llm2 with input: \n",
      "messages: Dada uma pergunta de entrada, atue como analista de dados e elabore uma resposta a partir dos resultados da consulta.\n",
      "Responda de forma natural, sem introduções como 'A resposta é:' ou algo semelhante...\n",
      "\n",
      "\u001b[0mINFO:httpx:HTTP Request: POST https://api.groq.com/openai/v1/chat/completions \"HTTP/1.1 200 OK\"\n",
      "HTTP Request: POST https://api.groq.com/openai/v1/chat/completions \"HTTP/1.1 200 OK\"\n",
      "\u001b[1;3;38;2;155;135;227m> Running module input with input: \n",
      "query_str: me de insights do imposto\n",
      "\n",
      "\u001b[0m\u001b[1;3;38;2;155;135;227m> Running module pandas_prompt with input: \n",
      "query_str: me de insights do imposto\n",
      "\n",
      "\u001b[0m\u001b[1;3;38;2;155;135;227m> Running module llm1 with input: \n",
      "messages: Você está trabalhando com um dataframe do pandas em Python chamado `df`.\n",
      "'ID_compra': object\n",
      "'filial': object\n",
      "'cidade': object\n",
      "'tipo_cliente': object\n",
      "'genero': object\n",
      "'tipo_produto': object\n",
      "'preco_uni...\n",
      "\n",
      "\u001b[0mINFO:httpx:HTTP Request: POST https://api.groq.com/openai/v1/chat/completions \"HTTP/1.1 200 OK\"\n",
      "HTTP Request: POST https://api.groq.com/openai/v1/chat/completions \"HTTP/1.1 200 OK\"\n",
      "\u001b[1;3;38;2;155;135;227m> Running module pandas_output_parser with input: \n",
      "input: assistant: df.groupby('imposto_5%').agg({'imposto_5%': 'sum', 'total': 'sum'}).sort_values(by='imposto_5%', ascending=False)\n",
      "\n",
      "\u001b[0m\u001b[1;3;38;2;155;135;227m> Running module response_synthesis_prompt with input: \n",
      "query_str: me de insights do imposto\n",
      "pandas_instructions: assistant: df.groupby('imposto_5%').agg({'imposto_5%': 'sum', 'total': 'sum'}).sort_values(by='imposto_5%', ascending=False)\n",
      "pandas_output: There was an error running the output as Python code. Error message: 'imposto_5%' is both an index level and a column label, which is ambiguous.\n",
      "\n",
      "\u001b[0m\u001b[1;3;38;2;155;135;227m> Running module llm2 with input: \n",
      "messages: Dada uma pergunta de entrada, atue como analista de dados e elabore uma resposta a partir dos resultados da consulta.\n",
      "Responda de forma natural, sem introduções como 'A resposta é:' ou algo semelhante...\n",
      "\n",
      "\u001b[0m"
     ]
    },
    {
     "name": "stderr",
     "output_type": "stream",
     "text": [
      "Traceback (most recent call last):\n",
      "  File \"/home/josiel/dev/work/python/llama-index-study/.venv/lib/python3.12/site-packages/llama_index/experimental/query_engine/pandas/output_parser.py\", line 63, in default_output_processor\n",
      "    output_str = str(safe_eval(module_end_str, global_vars, local_vars))\n",
      "                     ^^^^^^^^^^^^^^^^^^^^^^^^^^^^^^^^^^^^^^^^^^^^^^^^^^\n",
      "  File \"/home/josiel/dev/work/python/llama-index-study/.venv/lib/python3.12/site-packages/llama_index/experimental/exec_utils.py\", line 159, in safe_eval\n",
      "    return eval(__source, _get_restricted_globals(__globals), __locals)\n",
      "           ^^^^^^^^^^^^^^^^^^^^^^^^^^^^^^^^^^^^^^^^^^^^^^^^^^^^^^^^^^^^\n",
      "  File \"<string>\", line 1, in <module>\n",
      "  File \"/home/josiel/dev/work/python/llama-index-study/.venv/lib/python3.12/site-packages/pandas/core/frame.py\", line 7189, in sort_values\n",
      "    k = self._get_label_or_level_values(by[0], axis=axis)\n",
      "        ^^^^^^^^^^^^^^^^^^^^^^^^^^^^^^^^^^^^^^^^^^^^^^^^^\n",
      "  File \"/home/josiel/dev/work/python/llama-index-study/.venv/lib/python3.12/site-packages/pandas/core/generic.py\", line 1906, in _get_label_or_level_values\n",
      "    self._check_label_or_level_ambiguity(key, axis=axis)\n",
      "  File \"/home/josiel/dev/work/python/llama-index-study/.venv/lib/python3.12/site-packages/pandas/core/generic.py\", line 1868, in _check_label_or_level_ambiguity\n",
      "    raise ValueError(msg)\n",
      "ValueError: 'imposto_5%' is both an index level and a column label, which is ambiguous.\n"
     ]
    },
    {
     "name": "stdout",
     "output_type": "stream",
     "text": [
      "INFO:httpx:HTTP Request: POST https://api.groq.com/openai/v1/chat/completions \"HTTP/1.1 200 OK\"\n",
      "HTTP Request: POST https://api.groq.com/openai/v1/chat/completions \"HTTP/1.1 200 OK\"\n",
      "Keyboard interruption in main thread... closing server.\n"
     ]
    },
    {
     "data": {
      "text/plain": []
     },
     "execution_count": 37,
     "metadata": {},
     "output_type": "execute_result"
    }
   ],
   "source": [
    "import gradio as gr\n",
    "from fpdf import FPDF\n",
    "from datetime import datetime\n",
    "\n",
    "def load_data(file_path, df_state):\n",
    "    if file_path is None and df_state is None:\n",
    "        return 'Please upload a CSV file.', df_state\n",
    "    try:\n",
    "        df = pd.read_csv(file_path)\n",
    "        return 'File load successfuly', df\n",
    "    except Exception as e:\n",
    "        return f'Error on loading the file: {str(e)}', df_state\n",
    "\n",
    "def proccess_query(query, df_state):\n",
    "    if df_state is not None and query is not None:\n",
    "        qp = create_query_pipeline(df_state)\n",
    "        response = qp.run(query_str=query)\n",
    "        return response.message.content\n",
    "    \n",
    "    return ''\n",
    "\n",
    "def add_history(question, answer, history_state):\n",
    "    if question and answer:\n",
    "        history_state.append((question, answer))\n",
    "        return history_state\n",
    "\n",
    "def generate_pdf(history_state):\n",
    "    if not history_state:\n",
    "        return \"There is not information to generate a PFD file\", None\n",
    "    timestamp = datetime.now().strftime(\"%Y%m%d%H%M%S\")\n",
    "    output_file = f\"data/question_answer_report_{timestamp}.pdf\"\n",
    "    \n",
    "    pdf = FPDF()\n",
    "    pdf.add_page()\n",
    "    pdf.set_auto_page_break(auto=True, margin=15)\n",
    "\n",
    "    for question, answer in history_state:\n",
    "        pdf.set_font('Arial', \"B\", 14)\n",
    "        pdf.multi_cell(0, 8, txt=question)\n",
    "        pdf.ln(2)\n",
    "        pdf.set_font('Arial', \"\", 12)\n",
    "        pdf.multi_cell(0, 8, txt=answer)\n",
    "        pdf.ln(6)\n",
    "\n",
    "    pdf.output(output_file)\n",
    "    return output_file\n",
    "\n",
    "\n",
    "with gr.Blocks() as app:\n",
    "    file_input = gr.File(file_count ='single', type = 'filepath', label='Upload a CSV file')\n",
    "    upload_status = gr.Textbox(label='Upload status')\n",
    "    query_input = gr.Textbox(label='Type yout question about the dataset')\n",
    "    submit_button = gr.Button('Send')\n",
    "    response_output = gr.Textbox(label='Response')\n",
    "    add_pdf_button = gr.Button('Add history to PDF')\n",
    "    generate_pdf_button = gr.Button('Generate PDF')\n",
    "    pdf_file = gr.File(label='PDF Download')\n",
    "\n",
    "    df_state = gr.State(value=None)\n",
    "    history_state = gr.State(value=[])\n",
    "\n",
    "    file_input.change(fn=load_data,\n",
    "                      inputs=[file_input, df_state],\n",
    "                      outputs=[upload_status, df_state])\n",
    "    \n",
    "    submit_button.click(fn=proccess_query,\n",
    "                        inputs=[query_input, df_state],\n",
    "                        outputs=[response_output])\n",
    "    \n",
    "    add_pdf_button.click(fn=add_history,\n",
    "                         inputs=[query_input, response_output, history_state],\n",
    "                         outputs=history_state)\n",
    "    \n",
    "    generate_pdf_button.click(fn=generate_pdf,\n",
    "                              inputs=[history_state],\n",
    "                              outputs=pdf_file)\n",
    "    \n",
    "\n",
    "app.launch(debug=True)"
   ]
  }
 ],
 "metadata": {
  "kernelspec": {
   "display_name": ".venv",
   "language": "python",
   "name": "python3"
  },
  "language_info": {
   "codemirror_mode": {
    "name": "ipython",
    "version": 3
   },
   "file_extension": ".py",
   "mimetype": "text/x-python",
   "name": "python",
   "nbconvert_exporter": "python",
   "pygments_lexer": "ipython3",
   "version": "3.12.3"
  }
 },
 "nbformat": 4,
 "nbformat_minor": 2
}
